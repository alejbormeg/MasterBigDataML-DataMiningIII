{
 "cells": [
  {
   "attachments": {},
   "cell_type": "markdown",
   "metadata": {},
   "source": [
    "# Creación de modelos de puntuación del Riesgo de Impago\n",
    "\n",
    "En esta aplicación implementaremos un modelo de puntuación de riesgo de impago siguiendo la metodología  que hemos analizado en la presentación de clase (selección de variables mediante valor de la información, tramificación de variables continuas, agrupación de categorías, transformación woe de variables, estimación de modelos de regresión logística, ....)\n",
    "\n",
    "Existen diferentes librerías que incorporan funciones con los diferentes procedimientos ya programados que nos facilitan mucho la tarea. Una de estas librerías es `scorecardpy` [librería scorecardpy](https://pypi.org/project/scorecardpy/) que estima tarjetas de puntuación *lineales* utilizando regresiones logísticas. Esta librería nació inicialmente en R, y lamentablemente la versión de Python da algunos errores de adaptación a las últimas versiones de Pandas. Su desarrollador remite a utilizar la versión estable de R (librería en R 'scorecard'). \n",
    "\n",
    "Así que en su lugar de esta librería utilizaremos la librería `optBinning` [librería OptBinning](http://gnpalencia.org/optbinning/) que en realidad recoge (y en mi opinión mejora) la principal función de la librería `scorecardpy`  "
   ]
  },
  {
   "attachments": {},
   "cell_type": "markdown",
   "metadata": {},
   "source": [
    "## Creación de un entorno e instalación de librerías \n",
    "\n"
   ]
  },
  {
   "cell_type": "code",
   "execution_count": 57,
   "metadata": {},
   "outputs": [],
   "source": [
    "# Podemos Crear un nuevo entorno de trabajo (mejor desde el terminal)\n",
    "#! conda create -n risk_env\n",
    "#! conda activate risk_env\n",
    "#! conda config --env --add channels conda-forge\n",
    "#! conda config --env --set channel_priority strict\n",
    "\n",
    "# Instalamos la librería pandas y seaborn en el nuevo entrono desde conda (sólo la primera vez, utilizaré el terminal (con jupiter debo utilizar !))\n",
    "# conda install pandas\n",
    "# conda install seaborn\n",
    "\n",
    "# Instalamos la librería optbinning y scorecardpy (sólo la primera vez)\n",
    "# ! pip install scorecardpy # NOOO esta no la intaleis porque no es estable\n",
    "# ! pip install optbinning\n",
    "\n",
    "\n",
    "#Cargo o importo pandas, numpy, Matplotlib, \n",
    "import pandas as pd\n",
    "import numpy as np\n",
    "import matplotlib.pyplot as plt\n",
    "import seaborn as sns\n",
    "\n",
    "# Para el análisis descriptivo inicial de contraste de asociación importo el test Chi2 y el anova \n",
    "from scipy.stats import chi2_contingency\n",
    "from scipy.stats import f_oneway\n",
    "\n",
    "# Cargaríamos la librería scortecardpy si fuese estable (que no lo es)\n",
    "#import scorecardpy as sc\n",
    "\n",
    "\n",
    "# Librería para hacer la tramificación, agrupación y transformación WOE\n",
    "from optbinning import Scorecard, BinningProcess, OptimalBinning\n",
    "from optbinning.scorecard import plot_auc_roc, plot_cap, plot_ks\n",
    "\n",
    "\n",
    "# Scikit-learn para dividir la muestra y para estimar el modelo de regresión logística (sólo si no se quiere utilizar\n",
    "# la función optbinning.scorecard que ya lo incropora)\n",
    "import sklearn\n",
    "from sklearn.model_selection import train_test_split\n",
    "from sklearn.linear_model import LogisticRegression\n",
    "from sklearn.metrics import f1_score\n",
    "from sklearn.metrics import balanced_accuracy_score"
   ]
  },
  {
   "attachments": {},
   "cell_type": "markdown",
   "metadata": {},
   "source": [
    "# Preparación de los datos sobre Créditos que utilizaremos en la práctica **germancredit**\n",
    "## Carga de los datos \n",
    "En nuestra práctica utilizaremos una de las bases más utilizadas en los ejemplos de Puntuación de riesgo de crédito porque fue una de las primeras en ofrecerse en abierto. Corresponden a una base de datos de créditos de un Banco Alemán, y son datos reales, aunque muy antigüos de principios de los 90. Eso significa que las magnitudes de cantidades (expresadas en Marcos Alemanes), sean de difícil interpretación para el día de hoy. Sin embargo el signo y el sentido de las variables utilizadas para predecir el riesgo de impago de los futuros clientes permanece todavía de plena utilidad.\n",
    "\n",
    "Los datos pueden descargarse del repositorio la UCI Machine Learning Repositoy [datos de Créditos alemanes](https://archive.ics.uci.edu/ml/datasets/Statlog+(German+Credit+Data)). Esta base de datos está incorporada en la librería `sorecardpy` pero mejor utilizamos el fichero original `germancredit.csv` que os he preparado yo\n"
   ]
  },
  {
   "cell_type": "code",
   "execution_count": 58,
   "metadata": {},
   "outputs": [],
   "source": [
    "# Cargamos los datos germancredit que están precargados en la librería scorecardpy\n",
    "dt=pd.read_csv('C:\\\\Users\\\\pablo\\\\OneDrive\\\\Documentos\\\\GitHub\\\\MasterBigDataML-DataMiningIII\\\\src\\\\data\\\\germancredit.csv')"
   ]
  },
  {
   "attachments": {},
   "cell_type": "markdown",
   "metadata": {},
   "source": [
    "## Descripción inicial de los datos\n",
    "Vamos a hacer una descripción inicial de los datos\n"
   ]
  },
  {
   "cell_type": "code",
   "execution_count": 59,
   "metadata": {},
   "outputs": [
    {
     "name": "stdout",
     "output_type": "stream",
     "text": [
      "<class 'pandas.core.frame.DataFrame'>\n",
      "RangeIndex: 1000 entries, 0 to 999\n",
      "Data columns (total 22 columns):\n",
      " #   Column                                                    Non-Null Count  Dtype \n",
      "---  ------                                                    --------------  ----- \n",
      " 0   Unnamed: 0                                                1000 non-null   int64 \n",
      " 1   status.of.existing.checking.account                       1000 non-null   object\n",
      " 2   duration.in.month                                         1000 non-null   int64 \n",
      " 3   credit.history                                            1000 non-null   object\n",
      " 4   purpose                                                   1000 non-null   object\n",
      " 5   credit.amount                                             1000 non-null   int64 \n",
      " 6   savings.account.and.bonds                                 1000 non-null   object\n",
      " 7   present.employment.since                                  1000 non-null   object\n",
      " 8   installment.rate.in.percentage.of.disposable.income       1000 non-null   int64 \n",
      " 9   personal.status.and.sex                                   1000 non-null   object\n",
      " 10  other.debtors.or.guarantors                               1000 non-null   object\n",
      " 11  present.residence.since                                   1000 non-null   int64 \n",
      " 12  property                                                  1000 non-null   object\n",
      " 13  age.in.years                                              1000 non-null   int64 \n",
      " 14  other.installment.plans                                   1000 non-null   object\n",
      " 15  housing                                                   1000 non-null   object\n",
      " 16  number.of.existing.credits.at.this.bank                   1000 non-null   int64 \n",
      " 17  job                                                       1000 non-null   object\n",
      " 18  number.of.people.being.liable.to.provide.maintenance.for  1000 non-null   int64 \n",
      " 19  telephone                                                 1000 non-null   object\n",
      " 20  foreign.worker                                            1000 non-null   object\n",
      " 21  creditability                                             1000 non-null   object\n",
      "dtypes: int64(8), object(14)\n",
      "memory usage: 172.0+ KB\n"
     ]
    }
   ],
   "source": [
    "#Información del Contenido\n",
    "dt.info()"
   ]
  },
  {
   "attachments": {},
   "cell_type": "markdown",
   "metadata": {},
   "source": [
    "## Variable objetivo: creditability\n",
    "\n",
    " La variable **creditability** es la *calidad crediticia* de  cada cliente, es la variable a predecir.    \n",
    " Toma originalmente dos valores (Buen Cliente y Mal Clioente)"
   ]
  },
  {
   "cell_type": "code",
   "execution_count": 60,
   "metadata": {},
   "outputs": [
    {
     "data": {
      "text/plain": [
       "creditability\n",
       "good    700\n",
       "bad     300\n",
       "Name: count, dtype: int64"
      ]
     },
     "execution_count": 60,
     "metadata": {},
     "output_type": "execute_result"
    }
   ],
   "source": [
    "dt[\"creditability\"].value_counts()\n"
   ]
  },
  {
   "cell_type": "code",
   "execution_count": 61,
   "metadata": {},
   "outputs": [
    {
     "name": "stderr",
     "output_type": "stream",
     "text": [
      "C:\\Users\\pablo\\AppData\\Local\\Temp\\ipykernel_9252\\3922568296.py:4: FutureWarning: Downcasting behavior in `replace` is deprecated and will be removed in a future version. To retain the old behavior, explicitly call `result.infer_objects(copy=False)`. To opt-in to the future behavior, set `pd.set_option('future.no_silent_downcasting', True)`\n",
      "  dt['y'] = dt['y'].replace(['good', 'bad'], [0,1])\n"
     ]
    }
   ],
   "source": [
    "#Recodifico esta variable creditability para que sea binaria y la llamo \"y\"\n",
    "\n",
    "dt.rename(columns={\"creditability\":\"y\"},inplace=True)\n",
    "dt['y'] = dt['y'].replace(['good', 'bad'], [0,1])\n"
   ]
  },
  {
   "cell_type": "code",
   "execution_count": 62,
   "metadata": {},
   "outputs": [
    {
     "data": {
      "text/plain": [
       "y\n",
       "0    700\n",
       "1    300\n",
       "Name: count, dtype: int64"
      ]
     },
     "execution_count": 62,
     "metadata": {},
     "output_type": "execute_result"
    }
   ],
   "source": [
    "dt[\"y\"].value_counts()\n"
   ]
  },
  {
   "cell_type": "code",
   "execution_count": 63,
   "metadata": {},
   "outputs": [
    {
     "name": "stdout",
     "output_type": "stream",
     "text": [
      "<class 'pandas.core.frame.DataFrame'>\n",
      "RangeIndex: 1000 entries, 0 to 999\n",
      "Data columns (total 21 columns):\n",
      " #   Column                                                    Non-Null Count  Dtype \n",
      "---  ------                                                    --------------  ----- \n",
      " 0   status.of.existing.checking.account                       1000 non-null   object\n",
      " 1   duration.in.month                                         1000 non-null   int64 \n",
      " 2   credit.history                                            1000 non-null   object\n",
      " 3   purpose                                                   1000 non-null   object\n",
      " 4   credit.amount                                             1000 non-null   int64 \n",
      " 5   savings.account.and.bonds                                 1000 non-null   object\n",
      " 6   present.employment.since                                  1000 non-null   object\n",
      " 7   installment.rate.in.percentage.of.disposable.income       1000 non-null   int64 \n",
      " 8   personal.status.and.sex                                   1000 non-null   object\n",
      " 9   other.debtors.or.guarantors                               1000 non-null   object\n",
      " 10  present.residence.since                                   1000 non-null   int64 \n",
      " 11  property                                                  1000 non-null   object\n",
      " 12  age.in.years                                              1000 non-null   int64 \n",
      " 13  other.installment.plans                                   1000 non-null   object\n",
      " 14  housing                                                   1000 non-null   object\n",
      " 15  number.of.existing.credits.at.this.bank                   1000 non-null   int64 \n",
      " 16  job                                                       1000 non-null   object\n",
      " 17  number.of.people.being.liable.to.provide.maintenance.for  1000 non-null   int64 \n",
      " 18  telephone                                                 1000 non-null   object\n",
      " 19  foreign.worker                                            1000 non-null   object\n",
      " 20  y                                                         1000 non-null   int64 \n",
      "dtypes: int64(8), object(13)\n",
      "memory usage: 164.2+ KB\n"
     ]
    }
   ],
   "source": [
    "# También elimino la primera columna que no debería estar (es una variable de identificación que no debería tener en cuenta para la estimación del modelo)\n",
    "dt.drop(labels='Unnamed: 0',inplace=True, axis=1)\n",
    "\n",
    "dt.info()"
   ]
  },
  {
   "attachments": {},
   "cell_type": "markdown",
   "metadata": {},
   "source": [
    "## Variables Predictoras o explicativas\n",
    "\n",
    "Las 20 restantes variables del data frame (7 numéricas y 13 categóricas) son los atributos o características observadas de esos clientes que se utilizarán para predecir la probabilidad de que los clientes cometan un impago de sis créditos, esto es, de que sean malos clientes. La descripción de estas 20 variables es la siguiente:"
   ]
  },
  {
   "cell_type": "code",
   "execution_count": 64,
   "metadata": {},
   "outputs": [],
   "source": [
    "#  - Attribute 1: (qualitative) **Status of existing checking account o cuenta corriente** \n",
    "#   - A11 : ... < 0 DM \n",
    "#   - A12 : 0 <= ... < 200 DM \n",
    "#   - A13 : ... >= 200 DM / salary assignments for at least 1 year \n",
    "#   - A14 : no checking account \n",
    "\n",
    "#- Attribute 2: (numerical) **Duration in month** \n",
    "  \n",
    "#  - Attribute 3: (qualitative) **Credit history**  \n",
    "#     - A30 : no credits taken/ all credits paid back duly (devultos sin mora)\n",
    "#     - A31 : all credits at this bank paid back duly \n",
    "#     - A32 : existing credits paid back duly till now \n",
    "#     - A33 : delay in paying off in the past \n",
    "#     - A34 : critical account/ other credits existing (not at this bank) \n",
    "\n",
    "# - Attribute 4: (qualitative) **Purpose** \n",
    "#     - A40 : car (new) \n",
    "#     - A41 : car (used)\n",
    "#     - A42 : furniture/equipment\n",
    "#     - A43 : radio/television\n",
    "#     - A44 : domestic appliances\n",
    "#     - A45 : repairs\n",
    "#     - A46 : education\n",
    "#     - A47 : (vacation - does not exist?)\n",
    "#     - A48 : retraining\n",
    "#     - A49 : business\n",
    "#    - A410 : others \n",
    "\n",
    "# - Attribute 5: (numerical) **Credit amount** \n",
    "  \n",
    "# - Attribute 6: (qualitative) **Savings account/bonds** \n",
    "#    - A61 : ... < 100 DM\n",
    "#    - A62 : 100 <= ... < 500 DM\n",
    "#    - A63 : 500 <= ... < 1000 DM\n",
    "#    - A64 : .. >= 1000 DM \n",
    "#    - A65 : unknown/ no savings account \n",
    "\n",
    "# - Attribute 7: (qualitative) **Present employment since** \n",
    "#     - A71 : unemployed \n",
    "#     - A72 : ... < 1 year \n",
    "#     - A73 : 1 <= ... < 4 years \n",
    "#     - A74 : 4 <= ... < 7 years \n",
    "#     - A75 : .. >= 7 years \n",
    "\n",
    "# - Attribute 8: (numerical) **Installment rate in percentage of disposable income** \n",
    "  \n",
    "#  - Attribute 9: (qualitative) **Personal status and sex** \n",
    "#     - A91 : male : divorced/separated\n",
    "#     - A92 : female : divorced/separated/married\n",
    "#     - A93 : male : single\n",
    "#     - A94 : male : married/widowed\n",
    "#     - A95 : female : single \n",
    "\n",
    "# - Attribute 10: (qualitative) **Other debtors / guarantors**\n",
    "#    - A101 : none\n",
    "#    - A102 : co-applicant\n",
    "#    - A103 : guarantor \n",
    "\n",
    "# - Attribute 11: (numerical) **Present residence since**\n",
    "  \n",
    "# - Attribute 12: (qualitative) **Property**\n",
    "#     - A121 : real estate\n",
    "#     - A122 : if not A121 : building society savings agreement/ life insurance\n",
    "#     - A123 : if not A121/A122 : car or other, not in attribute 6 \n",
    "#     - A124 : unknown / no property \n",
    "\n",
    "# - Attribute 13: (numerical) **Age in years** \n",
    "  \n",
    "# - Attribute 14: (qualitative) **Other installment plans** Otros pagos por plazos\n",
    "#      - A141 : bank\n",
    "#      - A142 : stores\n",
    "#      - A143 : none \n",
    "\n",
    "# - Attribute 15: (qualitative) **Housing**\n",
    "#      - A151 : rent \n",
    "#      - A152 : own\n",
    "#      - A153 : for free \n",
    "\n",
    "# - Attribute 16: (numerical) **Number of existing credits at this bank**\n",
    "  \n",
    "# - Attribute 17: (qualitative) **Job**\n",
    "#   - A171 : unemployed/ unskilled - non-resident\n",
    "#   - A172 : unskilled - resident\n",
    "#   - A173 : skilled employee / official\n",
    "#   - A174 : management/ self-employed/highly qualified employee/ officer \n",
    "\n",
    "# - Attribute 18: (numerical) **Number of people being liable to provide maintenance for** \n",
    "  \n",
    "# - Attribute 19: (qualitative) **Telephone**\n",
    "#   - A191 : none\n",
    "#   - A192 : yes, registered under the customers name \n",
    "\n",
    "# - Attribute 20: (qualitative) **foreign worker** \n",
    "#   - A201 : yes \n",
    "#   - A202 : no \n"
   ]
  },
  {
   "attachments": {},
   "cell_type": "markdown",
   "metadata": {},
   "source": [
    "\n",
    "## Analisis univariante y de asociación con la variable objetivo de las **variables categóricas**\n"
   ]
  },
  {
   "attachments": {},
   "cell_type": "markdown",
   "metadata": {},
   "source": [
    "### **status.of.existing.checking.account**"
   ]
  },
  {
   "cell_type": "code",
   "execution_count": 65,
   "metadata": {},
   "outputs": [
    {
     "data": {
      "text/plain": [
       "status.of.existing.checking.account\n",
       "... < 0 DM                                                0.274\n",
       "... >= 200 DM / salary assignments for at least 1 year    0.063\n",
       "0 <= ... < 200 DM                                         0.269\n",
       "no checking account                                       0.394\n",
       "Name: proportion, dtype: float64"
      ]
     },
     "execution_count": 65,
     "metadata": {},
     "output_type": "execute_result"
    }
   ],
   "source": [
    "dt['status.of.existing.checking.account'].value_counts(normalize=True,dropna=False).sort_index()"
   ]
  },
  {
   "cell_type": "code",
   "execution_count": 66,
   "metadata": {},
   "outputs": [
    {
     "data": {
      "text/html": [
       "<div>\n",
       "<style scoped>\n",
       "    .dataframe tbody tr th:only-of-type {\n",
       "        vertical-align: middle;\n",
       "    }\n",
       "\n",
       "    .dataframe tbody tr th {\n",
       "        vertical-align: top;\n",
       "    }\n",
       "\n",
       "    .dataframe thead th {\n",
       "        text-align: right;\n",
       "    }\n",
       "</style>\n",
       "<table border=\"1\" class=\"dataframe\">\n",
       "  <thead>\n",
       "    <tr style=\"text-align: right;\">\n",
       "      <th>y</th>\n",
       "      <th>0</th>\n",
       "      <th>1</th>\n",
       "      <th>All</th>\n",
       "    </tr>\n",
       "    <tr>\n",
       "      <th>status.of.existing.checking.account</th>\n",
       "      <th></th>\n",
       "      <th></th>\n",
       "      <th></th>\n",
       "    </tr>\n",
       "  </thead>\n",
       "  <tbody>\n",
       "    <tr>\n",
       "      <th>... &lt; 0 DM</th>\n",
       "      <td>139</td>\n",
       "      <td>135</td>\n",
       "      <td>274</td>\n",
       "    </tr>\n",
       "    <tr>\n",
       "      <th>... &gt;= 200 DM / salary assignments for at least 1 year</th>\n",
       "      <td>49</td>\n",
       "      <td>14</td>\n",
       "      <td>63</td>\n",
       "    </tr>\n",
       "    <tr>\n",
       "      <th>0 &lt;= ... &lt; 200 DM</th>\n",
       "      <td>164</td>\n",
       "      <td>105</td>\n",
       "      <td>269</td>\n",
       "    </tr>\n",
       "    <tr>\n",
       "      <th>no checking account</th>\n",
       "      <td>348</td>\n",
       "      <td>46</td>\n",
       "      <td>394</td>\n",
       "    </tr>\n",
       "    <tr>\n",
       "      <th>All</th>\n",
       "      <td>700</td>\n",
       "      <td>300</td>\n",
       "      <td>1000</td>\n",
       "    </tr>\n",
       "  </tbody>\n",
       "</table>\n",
       "</div>"
      ],
      "text/plain": [
       "y                                                     0    1   All\n",
       "status.of.existing.checking.account                               \n",
       "... < 0 DM                                          139  135   274\n",
       "... >= 200 DM / salary assignments for at least...   49   14    63\n",
       "0 <= ... < 200 DM                                   164  105   269\n",
       "no checking account                                 348   46   394\n",
       "All                                                 700  300  1000"
      ]
     },
     "execution_count": 66,
     "metadata": {},
     "output_type": "execute_result"
    }
   ],
   "source": [
    "ctabla=pd.crosstab(dt['status.of.existing.checking.account'],dt['y'],margins=True).round(3)\n",
    "ctabla"
   ]
  },
  {
   "cell_type": "code",
   "execution_count": 67,
   "metadata": {},
   "outputs": [
    {
     "name": "stdout",
     "output_type": "stream",
     "text": [
      "5.644860555592815e-23\n"
     ]
    }
   ],
   "source": [
    "# Chi-square test of independence. \n",
    "c, p, dof, expected = chi2_contingency(ctabla) \n",
    "# Print the p-value\n",
    "print(p)"
   ]
  },
  {
   "cell_type": "code",
   "execution_count": 68,
   "metadata": {},
   "outputs": [
    {
     "data": {
      "text/html": [
       "<div>\n",
       "<style scoped>\n",
       "    .dataframe tbody tr th:only-of-type {\n",
       "        vertical-align: middle;\n",
       "    }\n",
       "\n",
       "    .dataframe tbody tr th {\n",
       "        vertical-align: top;\n",
       "    }\n",
       "\n",
       "    .dataframe thead th {\n",
       "        text-align: right;\n",
       "    }\n",
       "</style>\n",
       "<table border=\"1\" class=\"dataframe\">\n",
       "  <thead>\n",
       "    <tr style=\"text-align: right;\">\n",
       "      <th>y</th>\n",
       "      <th>0</th>\n",
       "      <th>1</th>\n",
       "      <th>All</th>\n",
       "    </tr>\n",
       "    <tr>\n",
       "      <th>status.of.existing.checking.account</th>\n",
       "      <th></th>\n",
       "      <th></th>\n",
       "      <th></th>\n",
       "    </tr>\n",
       "  </thead>\n",
       "  <tbody>\n",
       "    <tr>\n",
       "      <th>... &lt; 0 DM</th>\n",
       "      <td>0.199</td>\n",
       "      <td>0.450</td>\n",
       "      <td>0.274</td>\n",
       "    </tr>\n",
       "    <tr>\n",
       "      <th>... &gt;= 200 DM / salary assignments for at least 1 year</th>\n",
       "      <td>0.070</td>\n",
       "      <td>0.047</td>\n",
       "      <td>0.063</td>\n",
       "    </tr>\n",
       "    <tr>\n",
       "      <th>0 &lt;= ... &lt; 200 DM</th>\n",
       "      <td>0.234</td>\n",
       "      <td>0.350</td>\n",
       "      <td>0.269</td>\n",
       "    </tr>\n",
       "    <tr>\n",
       "      <th>no checking account</th>\n",
       "      <td>0.497</td>\n",
       "      <td>0.153</td>\n",
       "      <td>0.394</td>\n",
       "    </tr>\n",
       "  </tbody>\n",
       "</table>\n",
       "</div>"
      ],
      "text/plain": [
       "y                                                       0      1    All\n",
       "status.of.existing.checking.account                                    \n",
       "... < 0 DM                                          0.199  0.450  0.274\n",
       "... >= 200 DM / salary assignments for at least...  0.070  0.047  0.063\n",
       "0 <= ... < 200 DM                                   0.234  0.350  0.269\n",
       "no checking account                                 0.497  0.153  0.394"
      ]
     },
     "execution_count": 68,
     "metadata": {},
     "output_type": "execute_result"
    }
   ],
   "source": [
    "pd.crosstab(dt['status.of.existing.checking.account'],dt['y'],margins=True, normalize=1).round(3)"
   ]
  },
  {
   "cell_type": "code",
   "execution_count": 69,
   "metadata": {},
   "outputs": [
    {
     "data": {
      "text/html": [
       "<div>\n",
       "<style scoped>\n",
       "    .dataframe tbody tr th:only-of-type {\n",
       "        vertical-align: middle;\n",
       "    }\n",
       "\n",
       "    .dataframe tbody tr th {\n",
       "        vertical-align: top;\n",
       "    }\n",
       "\n",
       "    .dataframe thead th {\n",
       "        text-align: right;\n",
       "    }\n",
       "</style>\n",
       "<table border=\"1\" class=\"dataframe\">\n",
       "  <thead>\n",
       "    <tr style=\"text-align: right;\">\n",
       "      <th>y</th>\n",
       "      <th>0</th>\n",
       "      <th>1</th>\n",
       "    </tr>\n",
       "    <tr>\n",
       "      <th>status.of.existing.checking.account</th>\n",
       "      <th></th>\n",
       "      <th></th>\n",
       "    </tr>\n",
       "  </thead>\n",
       "  <tbody>\n",
       "    <tr>\n",
       "      <th>... &lt; 0 DM</th>\n",
       "      <td>0.507</td>\n",
       "      <td>0.493</td>\n",
       "    </tr>\n",
       "    <tr>\n",
       "      <th>... &gt;= 200 DM / salary assignments for at least 1 year</th>\n",
       "      <td>0.778</td>\n",
       "      <td>0.222</td>\n",
       "    </tr>\n",
       "    <tr>\n",
       "      <th>0 &lt;= ... &lt; 200 DM</th>\n",
       "      <td>0.610</td>\n",
       "      <td>0.390</td>\n",
       "    </tr>\n",
       "    <tr>\n",
       "      <th>no checking account</th>\n",
       "      <td>0.883</td>\n",
       "      <td>0.117</td>\n",
       "    </tr>\n",
       "    <tr>\n",
       "      <th>All</th>\n",
       "      <td>0.700</td>\n",
       "      <td>0.300</td>\n",
       "    </tr>\n",
       "  </tbody>\n",
       "</table>\n",
       "</div>"
      ],
      "text/plain": [
       "y                                                       0      1\n",
       "status.of.existing.checking.account                             \n",
       "... < 0 DM                                          0.507  0.493\n",
       "... >= 200 DM / salary assignments for at least...  0.778  0.222\n",
       "0 <= ... < 200 DM                                   0.610  0.390\n",
       "no checking account                                 0.883  0.117\n",
       "All                                                 0.700  0.300"
      ]
     },
     "execution_count": 69,
     "metadata": {},
     "output_type": "execute_result"
    }
   ],
   "source": [
    "pd.crosstab(dt['status.of.existing.checking.account'],dt['y'],margins=True, normalize=0).round(3)"
   ]
  },
  {
   "cell_type": "code",
   "execution_count": 70,
   "metadata": {},
   "outputs": [
    {
     "data": {
      "text/plain": [
       "<Axes: xlabel='status.of.existing.checking.account'>"
      ]
     },
     "execution_count": 70,
     "metadata": {},
     "output_type": "execute_result"
    },
    {
     "data": {
      "image/png": "[encoded data removed]",
      "text/plain": [
       "<Figure size 1500x500 with 1 Axes>"
      ]
     },
     "metadata": {},
     "output_type": "display_data"
    }
   ],
   "source": [
    "pd.crosstab(dt['status.of.existing.checking.account'],dt['y'],margins=True, normalize=0).round(3).plot(figsize=(15,5))\n"
   ]
  },
  {
   "attachments": {},
   "cell_type": "markdown",
   "metadata": {},
   "source": [
    "### **Personal status and sex**"
   ]
  },
  {
   "cell_type": "code",
   "execution_count": 71,
   "metadata": {},
   "outputs": [
    {
     "data": {
      "text/plain": [
       "personal.status.and.sex\n",
       "female : divorced/separated/married    0.310\n",
       "male : divorced/separated              0.050\n",
       "male : married/widowed                 0.092\n",
       "male : single                          0.548\n",
       "Name: proportion, dtype: float64"
      ]
     },
     "execution_count": 71,
     "metadata": {},
     "output_type": "execute_result"
    }
   ],
   "source": [
    "dt['personal.status.and.sex'].value_counts(normalize=True,dropna=False).sort_index()"
   ]
  },
  {
   "cell_type": "code",
   "execution_count": 72,
   "metadata": {},
   "outputs": [
    {
     "data": {
      "text/html": [
       "<div>\n",
       "<style scoped>\n",
       "    .dataframe tbody tr th:only-of-type {\n",
       "        vertical-align: middle;\n",
       "    }\n",
       "\n",
       "    .dataframe tbody tr th {\n",
       "        vertical-align: top;\n",
       "    }\n",
       "\n",
       "    .dataframe thead th {\n",
       "        text-align: right;\n",
       "    }\n",
       "</style>\n",
       "<table border=\"1\" class=\"dataframe\">\n",
       "  <thead>\n",
       "    <tr style=\"text-align: right;\">\n",
       "      <th>y</th>\n",
       "      <th>0</th>\n",
       "      <th>1</th>\n",
       "      <th>All</th>\n",
       "    </tr>\n",
       "    <tr>\n",
       "      <th>personal.status.and.sex</th>\n",
       "      <th></th>\n",
       "      <th></th>\n",
       "      <th></th>\n",
       "    </tr>\n",
       "  </thead>\n",
       "  <tbody>\n",
       "    <tr>\n",
       "      <th>female : divorced/separated/married</th>\n",
       "      <td>221</td>\n",
       "      <td>89</td>\n",
       "      <td>310</td>\n",
       "    </tr>\n",
       "    <tr>\n",
       "      <th>male : divorced/separated</th>\n",
       "      <td>38</td>\n",
       "      <td>12</td>\n",
       "      <td>50</td>\n",
       "    </tr>\n",
       "    <tr>\n",
       "      <th>male : married/widowed</th>\n",
       "      <td>61</td>\n",
       "      <td>31</td>\n",
       "      <td>92</td>\n",
       "    </tr>\n",
       "    <tr>\n",
       "      <th>male : single</th>\n",
       "      <td>380</td>\n",
       "      <td>168</td>\n",
       "      <td>548</td>\n",
       "    </tr>\n",
       "    <tr>\n",
       "      <th>All</th>\n",
       "      <td>700</td>\n",
       "      <td>300</td>\n",
       "      <td>1000</td>\n",
       "    </tr>\n",
       "  </tbody>\n",
       "</table>\n",
       "</div>"
      ],
      "text/plain": [
       "y                                      0    1   All\n",
       "personal.status.and.sex                            \n",
       "female : divorced/separated/married  221   89   310\n",
       "male : divorced/separated             38   12    50\n",
       "male : married/widowed                61   31    92\n",
       "male : single                        380  168   548\n",
       "All                                  700  300  1000"
      ]
     },
     "execution_count": 72,
     "metadata": {},
     "output_type": "execute_result"
    }
   ],
   "source": [
    "ctabla=pd.crosstab(dt['personal.status.and.sex'],dt['y'],margins=True).round(3)\n",
    "ctabla"
   ]
  },
  {
   "cell_type": "code",
   "execution_count": 73,
   "metadata": {},
   "outputs": [
    {
     "data": {
      "text/html": [
       "<div>\n",
       "<style scoped>\n",
       "    .dataframe tbody tr th:only-of-type {\n",
       "        vertical-align: middle;\n",
       "    }\n",
       "\n",
       "    .dataframe tbody tr th {\n",
       "        vertical-align: top;\n",
       "    }\n",
       "\n",
       "    .dataframe thead th {\n",
       "        text-align: right;\n",
       "    }\n",
       "</style>\n",
       "<table border=\"1\" class=\"dataframe\">\n",
       "  <thead>\n",
       "    <tr style=\"text-align: right;\">\n",
       "      <th>y</th>\n",
       "      <th>0</th>\n",
       "      <th>1</th>\n",
       "    </tr>\n",
       "    <tr>\n",
       "      <th>personal.status.and.sex</th>\n",
       "      <th></th>\n",
       "      <th></th>\n",
       "    </tr>\n",
       "  </thead>\n",
       "  <tbody>\n",
       "    <tr>\n",
       "      <th>female : divorced/separated/married</th>\n",
       "      <td>0.713</td>\n",
       "      <td>0.287</td>\n",
       "    </tr>\n",
       "    <tr>\n",
       "      <th>male : divorced/separated</th>\n",
       "      <td>0.760</td>\n",
       "      <td>0.240</td>\n",
       "    </tr>\n",
       "    <tr>\n",
       "      <th>male : married/widowed</th>\n",
       "      <td>0.663</td>\n",
       "      <td>0.337</td>\n",
       "    </tr>\n",
       "    <tr>\n",
       "      <th>male : single</th>\n",
       "      <td>0.693</td>\n",
       "      <td>0.307</td>\n",
       "    </tr>\n",
       "    <tr>\n",
       "      <th>All</th>\n",
       "      <td>0.700</td>\n",
       "      <td>0.300</td>\n",
       "    </tr>\n",
       "  </tbody>\n",
       "</table>\n",
       "</div>"
      ],
      "text/plain": [
       "y                                        0      1\n",
       "personal.status.and.sex                          \n",
       "female : divorced/separated/married  0.713  0.287\n",
       "male : divorced/separated            0.760  0.240\n",
       "male : married/widowed               0.663  0.337\n",
       "male : single                        0.693  0.307\n",
       "All                                  0.700  0.300"
      ]
     },
     "execution_count": 73,
     "metadata": {},
     "output_type": "execute_result"
    }
   ],
   "source": [
    "pd.crosstab(dt['personal.status.and.sex'],dt['y'],margins=True, normalize=0).round(3)"
   ]
  },
  {
   "cell_type": "code",
   "execution_count": 74,
   "metadata": {},
   "outputs": [
    {
     "name": "stdout",
     "output_type": "stream",
     "text": [
      "0.9861956857599425\n"
     ]
    }
   ],
   "source": [
    "# Chi-square test of independence. \n",
    "c, p, dof, expected = chi2_contingency(ctabla) \n",
    "# Print the p-value\n",
    "print(p)"
   ]
  },
  {
   "cell_type": "code",
   "execution_count": 75,
   "metadata": {},
   "outputs": [
    {
     "data": {
      "text/plain": [
       "<Axes: xlabel='personal.status.and.sex'>"
      ]
     },
     "execution_count": 75,
     "metadata": {},
     "output_type": "execute_result"
    },
    {
     "data": {
      "image/png": "[encoded data removed]",
      "text/plain": [
       "<Figure size 1500x500 with 1 Axes>"
      ]
     },
     "metadata": {},
     "output_type": "display_data"
    }
   ],
   "source": [
    "pd.crosstab(dt['personal.status.and.sex'],dt['y'],margins=True, normalize=0).round(3).plot(figsize=(15,5))"
   ]
  },
  {
   "attachments": {},
   "cell_type": "markdown",
   "metadata": {},
   "source": [
    "### **Housing**"
   ]
  },
  {
   "cell_type": "code",
   "execution_count": 76,
   "metadata": {},
   "outputs": [
    {
     "data": {
      "text/plain": [
       "housing\n",
       "for free    0.108\n",
       "own         0.713\n",
       "rent        0.179\n",
       "Name: proportion, dtype: float64"
      ]
     },
     "execution_count": 76,
     "metadata": {},
     "output_type": "execute_result"
    }
   ],
   "source": [
    "dt['housing'].value_counts(normalize=True,dropna=False).sort_index()"
   ]
  },
  {
   "cell_type": "code",
   "execution_count": 77,
   "metadata": {},
   "outputs": [
    {
     "data": {
      "text/html": [
       "<div>\n",
       "<style scoped>\n",
       "    .dataframe tbody tr th:only-of-type {\n",
       "        vertical-align: middle;\n",
       "    }\n",
       "\n",
       "    .dataframe tbody tr th {\n",
       "        vertical-align: top;\n",
       "    }\n",
       "\n",
       "    .dataframe thead th {\n",
       "        text-align: right;\n",
       "    }\n",
       "</style>\n",
       "<table border=\"1\" class=\"dataframe\">\n",
       "  <thead>\n",
       "    <tr style=\"text-align: right;\">\n",
       "      <th>y</th>\n",
       "      <th>0</th>\n",
       "      <th>1</th>\n",
       "      <th>All</th>\n",
       "    </tr>\n",
       "    <tr>\n",
       "      <th>housing</th>\n",
       "      <th></th>\n",
       "      <th></th>\n",
       "      <th></th>\n",
       "    </tr>\n",
       "  </thead>\n",
       "  <tbody>\n",
       "    <tr>\n",
       "      <th>for free</th>\n",
       "      <td>64</td>\n",
       "      <td>44</td>\n",
       "      <td>108</td>\n",
       "    </tr>\n",
       "    <tr>\n",
       "      <th>own</th>\n",
       "      <td>527</td>\n",
       "      <td>186</td>\n",
       "      <td>713</td>\n",
       "    </tr>\n",
       "    <tr>\n",
       "      <th>rent</th>\n",
       "      <td>109</td>\n",
       "      <td>70</td>\n",
       "      <td>179</td>\n",
       "    </tr>\n",
       "    <tr>\n",
       "      <th>All</th>\n",
       "      <td>700</td>\n",
       "      <td>300</td>\n",
       "      <td>1000</td>\n",
       "    </tr>\n",
       "  </tbody>\n",
       "</table>\n",
       "</div>"
      ],
      "text/plain": [
       "y           0    1   All\n",
       "housing                 \n",
       "for free   64   44   108\n",
       "own       527  186   713\n",
       "rent      109   70   179\n",
       "All       700  300  1000"
      ]
     },
     "execution_count": 77,
     "metadata": {},
     "output_type": "execute_result"
    }
   ],
   "source": [
    "ctabla=pd.crosstab(dt['housing'],dt['y'],margins=True).round(3)\n",
    "ctabla"
   ]
  },
  {
   "cell_type": "code",
   "execution_count": 78,
   "metadata": {},
   "outputs": [
    {
     "data": {
      "text/html": [
       "<div>\n",
       "<style scoped>\n",
       "    .dataframe tbody tr th:only-of-type {\n",
       "        vertical-align: middle;\n",
       "    }\n",
       "\n",
       "    .dataframe tbody tr th {\n",
       "        vertical-align: top;\n",
       "    }\n",
       "\n",
       "    .dataframe thead th {\n",
       "        text-align: right;\n",
       "    }\n",
       "</style>\n",
       "<table border=\"1\" class=\"dataframe\">\n",
       "  <thead>\n",
       "    <tr style=\"text-align: right;\">\n",
       "      <th>y</th>\n",
       "      <th>0</th>\n",
       "      <th>1</th>\n",
       "    </tr>\n",
       "    <tr>\n",
       "      <th>housing</th>\n",
       "      <th></th>\n",
       "      <th></th>\n",
       "    </tr>\n",
       "  </thead>\n",
       "  <tbody>\n",
       "    <tr>\n",
       "      <th>for free</th>\n",
       "      <td>0.593</td>\n",
       "      <td>0.407</td>\n",
       "    </tr>\n",
       "    <tr>\n",
       "      <th>own</th>\n",
       "      <td>0.739</td>\n",
       "      <td>0.261</td>\n",
       "    </tr>\n",
       "    <tr>\n",
       "      <th>rent</th>\n",
       "      <td>0.609</td>\n",
       "      <td>0.391</td>\n",
       "    </tr>\n",
       "    <tr>\n",
       "      <th>All</th>\n",
       "      <td>0.700</td>\n",
       "      <td>0.300</td>\n",
       "    </tr>\n",
       "  </tbody>\n",
       "</table>\n",
       "</div>"
      ],
      "text/plain": [
       "y             0      1\n",
       "housing               \n",
       "for free  0.593  0.407\n",
       "own       0.739  0.261\n",
       "rent      0.609  0.391\n",
       "All       0.700  0.300"
      ]
     },
     "execution_count": 78,
     "metadata": {},
     "output_type": "execute_result"
    }
   ],
   "source": [
    "pd.crosstab(dt['housing'],dt['y'],margins=True, normalize=0).round(3)"
   ]
  },
  {
   "cell_type": "code",
   "execution_count": 79,
   "metadata": {},
   "outputs": [
    {
     "name": "stdout",
     "output_type": "stream",
     "text": [
      "0.0057517137009144665\n"
     ]
    }
   ],
   "source": [
    "# Chi-square test of independence. \n",
    "c, p, dof, expected = chi2_contingency(ctabla) \n",
    "# Print the p-value\n",
    "print(p)"
   ]
  },
  {
   "cell_type": "code",
   "execution_count": 80,
   "metadata": {},
   "outputs": [
    {
     "data": {
      "text/plain": [
       "<Axes: xlabel='housing'>"
      ]
     },
     "execution_count": 80,
     "metadata": {},
     "output_type": "execute_result"
    },
    {
     "data": {
      "image/png": "[encoded data removed]",
      "text/plain": [
       "<Figure size 1500x500 with 1 Axes>"
      ]
     },
     "metadata": {},
     "output_type": "display_data"
    }
   ],
   "source": [
    "pd.crosstab(dt['housing'],dt['y'],margins=True, normalize=0).round(3).plot(figsize=(15,5))"
   ]
  },
  {
   "attachments": {},
   "cell_type": "markdown",
   "metadata": {},
   "source": [
    "### **Job**"
   ]
  },
  {
   "cell_type": "code",
   "execution_count": 81,
   "metadata": {},
   "outputs": [
    {
     "data": {
      "text/plain": [
       "job\n",
       "management/ self-employed/ highly qualified employee/ officer    0.148\n",
       "skilled employee / official                                      0.630\n",
       "unemployed/ unskilled - non-resident                             0.022\n",
       "unskilled - resident                                             0.200\n",
       "Name: proportion, dtype: float64"
      ]
     },
     "execution_count": 81,
     "metadata": {},
     "output_type": "execute_result"
    }
   ],
   "source": [
    "dt['job'].value_counts(normalize=True,dropna=False).sort_index()"
   ]
  },
  {
   "cell_type": "code",
   "execution_count": 82,
   "metadata": {},
   "outputs": [
    {
     "data": {
      "text/html": [
       "<div>\n",
       "<style scoped>\n",
       "    .dataframe tbody tr th:only-of-type {\n",
       "        vertical-align: middle;\n",
       "    }\n",
       "\n",
       "    .dataframe tbody tr th {\n",
       "        vertical-align: top;\n",
       "    }\n",
       "\n",
       "    .dataframe thead th {\n",
       "        text-align: right;\n",
       "    }\n",
       "</style>\n",
       "<table border=\"1\" class=\"dataframe\">\n",
       "  <thead>\n",
       "    <tr style=\"text-align: right;\">\n",
       "      <th>y</th>\n",
       "      <th>0</th>\n",
       "      <th>1</th>\n",
       "      <th>All</th>\n",
       "    </tr>\n",
       "    <tr>\n",
       "      <th>job</th>\n",
       "      <th></th>\n",
       "      <th></th>\n",
       "      <th></th>\n",
       "    </tr>\n",
       "  </thead>\n",
       "  <tbody>\n",
       "    <tr>\n",
       "      <th>management/ self-employed/ highly qualified employee/ officer</th>\n",
       "      <td>97</td>\n",
       "      <td>51</td>\n",
       "      <td>148</td>\n",
       "    </tr>\n",
       "    <tr>\n",
       "      <th>skilled employee / official</th>\n",
       "      <td>444</td>\n",
       "      <td>186</td>\n",
       "      <td>630</td>\n",
       "    </tr>\n",
       "    <tr>\n",
       "      <th>unemployed/ unskilled - non-resident</th>\n",
       "      <td>15</td>\n",
       "      <td>7</td>\n",
       "      <td>22</td>\n",
       "    </tr>\n",
       "    <tr>\n",
       "      <th>unskilled - resident</th>\n",
       "      <td>144</td>\n",
       "      <td>56</td>\n",
       "      <td>200</td>\n",
       "    </tr>\n",
       "    <tr>\n",
       "      <th>All</th>\n",
       "      <td>700</td>\n",
       "      <td>300</td>\n",
       "      <td>1000</td>\n",
       "    </tr>\n",
       "  </tbody>\n",
       "</table>\n",
       "</div>"
      ],
      "text/plain": [
       "y                                                     0    1   All\n",
       "job                                                               \n",
       "management/ self-employed/ highly qualified emp...   97   51   148\n",
       "skilled employee / official                         444  186   630\n",
       "unemployed/ unskilled - non-resident                 15    7    22\n",
       "unskilled - resident                                144   56   200\n",
       "All                                                 700  300  1000"
      ]
     },
     "execution_count": 82,
     "metadata": {},
     "output_type": "execute_result"
    }
   ],
   "source": [
    "ctabla=pd.crosstab(dt['job'],dt['y'],margins=True).round(3)\n",
    "ctabla"
   ]
  },
  {
   "cell_type": "code",
   "execution_count": 83,
   "metadata": {},
   "outputs": [
    {
     "data": {
      "text/html": [
       "<div>\n",
       "<style scoped>\n",
       "    .dataframe tbody tr th:only-of-type {\n",
       "        vertical-align: middle;\n",
       "    }\n",
       "\n",
       "    .dataframe tbody tr th {\n",
       "        vertical-align: top;\n",
       "    }\n",
       "\n",
       "    .dataframe thead th {\n",
       "        text-align: right;\n",
       "    }\n",
       "</style>\n",
       "<table border=\"1\" class=\"dataframe\">\n",
       "  <thead>\n",
       "    <tr style=\"text-align: right;\">\n",
       "      <th>y</th>\n",
       "      <th>0</th>\n",
       "      <th>1</th>\n",
       "    </tr>\n",
       "    <tr>\n",
       "      <th>job</th>\n",
       "      <th></th>\n",
       "      <th></th>\n",
       "    </tr>\n",
       "  </thead>\n",
       "  <tbody>\n",
       "    <tr>\n",
       "      <th>management/ self-employed/ highly qualified employee/ officer</th>\n",
       "      <td>0.655</td>\n",
       "      <td>0.345</td>\n",
       "    </tr>\n",
       "    <tr>\n",
       "      <th>skilled employee / official</th>\n",
       "      <td>0.705</td>\n",
       "      <td>0.295</td>\n",
       "    </tr>\n",
       "    <tr>\n",
       "      <th>unemployed/ unskilled - non-resident</th>\n",
       "      <td>0.682</td>\n",
       "      <td>0.318</td>\n",
       "    </tr>\n",
       "    <tr>\n",
       "      <th>unskilled - resident</th>\n",
       "      <td>0.720</td>\n",
       "      <td>0.280</td>\n",
       "    </tr>\n",
       "    <tr>\n",
       "      <th>All</th>\n",
       "      <td>0.700</td>\n",
       "      <td>0.300</td>\n",
       "    </tr>\n",
       "  </tbody>\n",
       "</table>\n",
       "</div>"
      ],
      "text/plain": [
       "y                                                       0      1\n",
       "job                                                             \n",
       "management/ self-employed/ highly qualified emp...  0.655  0.345\n",
       "skilled employee / official                         0.705  0.295\n",
       "unemployed/ unskilled - non-resident                0.682  0.318\n",
       "unskilled - resident                                0.720  0.280\n",
       "All                                                 0.700  0.300"
      ]
     },
     "execution_count": 83,
     "metadata": {},
     "output_type": "execute_result"
    }
   ],
   "source": [
    "pd.crosstab(dt['job'],dt['y'],margins=True, normalize=0).round(3)"
   ]
  },
  {
   "cell_type": "code",
   "execution_count": 84,
   "metadata": {},
   "outputs": [
    {
     "name": "stdout",
     "output_type": "stream",
     "text": [
      "0.9843324501309928\n"
     ]
    }
   ],
   "source": [
    "# Chi-square test of independence. \n",
    "c, p, dof, expected = chi2_contingency(ctabla) \n",
    "# Print the p-value\n",
    "print(p)"
   ]
  },
  {
   "cell_type": "code",
   "execution_count": 85,
   "metadata": {},
   "outputs": [
    {
     "data": {
      "text/plain": [
       "<Axes: xlabel='job'>"
      ]
     },
     "execution_count": 85,
     "metadata": {},
     "output_type": "execute_result"
    },
    {
     "data": {
      "image/png": "[encoded data removed]",
      "text/plain": [
       "<Figure size 1500x500 with 1 Axes>"
      ]
     },
     "metadata": {},
     "output_type": "display_data"
    }
   ],
   "source": [
    "pd.crosstab(dt['job'],dt['y'],margins=True, normalize=0).round(3).plot(figsize=(15,5))"
   ]
  },
  {
   "attachments": {},
   "cell_type": "markdown",
   "metadata": {},
   "source": [
    " ....  Habría que seguir haciendo esto con todas las variables categóricas para analizar asociación"
   ]
  },
  {
   "attachments": {},
   "cell_type": "markdown",
   "metadata": {},
   "source": [
    "## Analisis univariante y de asociación con la variable objetivo de las **Variables continuas**"
   ]
  },
  {
   "cell_type": "code",
   "execution_count": 86,
   "metadata": {},
   "outputs": [
    {
     "data": {
      "text/html": [
       "<div>\n",
       "<style scoped>\n",
       "    .dataframe tbody tr th:only-of-type {\n",
       "        vertical-align: middle;\n",
       "    }\n",
       "\n",
       "    .dataframe tbody tr th {\n",
       "        vertical-align: top;\n",
       "    }\n",
       "\n",
       "    .dataframe thead th {\n",
       "        text-align: right;\n",
       "    }\n",
       "</style>\n",
       "<table border=\"1\" class=\"dataframe\">\n",
       "  <thead>\n",
       "    <tr style=\"text-align: right;\">\n",
       "      <th></th>\n",
       "      <th>duration.in.month</th>\n",
       "      <th>credit.amount</th>\n",
       "      <th>installment.rate.in.percentage.of.disposable.income</th>\n",
       "      <th>present.residence.since</th>\n",
       "      <th>age.in.years</th>\n",
       "      <th>number.of.existing.credits.at.this.bank</th>\n",
       "      <th>number.of.people.being.liable.to.provide.maintenance.for</th>\n",
       "      <th>y</th>\n",
       "    </tr>\n",
       "  </thead>\n",
       "  <tbody>\n",
       "    <tr>\n",
       "      <th>count</th>\n",
       "      <td>1000.000000</td>\n",
       "      <td>1000.000000</td>\n",
       "      <td>1000.000000</td>\n",
       "      <td>1000.000000</td>\n",
       "      <td>1000.000000</td>\n",
       "      <td>1000.000000</td>\n",
       "      <td>1000.000000</td>\n",
       "      <td>1000.000000</td>\n",
       "    </tr>\n",
       "    <tr>\n",
       "      <th>mean</th>\n",
       "      <td>20.903000</td>\n",
       "      <td>3271.258000</td>\n",
       "      <td>2.973000</td>\n",
       "      <td>2.845000</td>\n",
       "      <td>35.546000</td>\n",
       "      <td>1.407000</td>\n",
       "      <td>1.155000</td>\n",
       "      <td>0.300000</td>\n",
       "    </tr>\n",
       "    <tr>\n",
       "      <th>std</th>\n",
       "      <td>12.058814</td>\n",
       "      <td>2822.736876</td>\n",
       "      <td>1.118715</td>\n",
       "      <td>1.103718</td>\n",
       "      <td>11.375469</td>\n",
       "      <td>0.577654</td>\n",
       "      <td>0.362086</td>\n",
       "      <td>0.458487</td>\n",
       "    </tr>\n",
       "    <tr>\n",
       "      <th>min</th>\n",
       "      <td>4.000000</td>\n",
       "      <td>250.000000</td>\n",
       "      <td>1.000000</td>\n",
       "      <td>1.000000</td>\n",
       "      <td>19.000000</td>\n",
       "      <td>1.000000</td>\n",
       "      <td>1.000000</td>\n",
       "      <td>0.000000</td>\n",
       "    </tr>\n",
       "    <tr>\n",
       "      <th>25%</th>\n",
       "      <td>12.000000</td>\n",
       "      <td>1365.500000</td>\n",
       "      <td>2.000000</td>\n",
       "      <td>2.000000</td>\n",
       "      <td>27.000000</td>\n",
       "      <td>1.000000</td>\n",
       "      <td>1.000000</td>\n",
       "      <td>0.000000</td>\n",
       "    </tr>\n",
       "    <tr>\n",
       "      <th>50%</th>\n",
       "      <td>18.000000</td>\n",
       "      <td>2319.500000</td>\n",
       "      <td>3.000000</td>\n",
       "      <td>3.000000</td>\n",
       "      <td>33.000000</td>\n",
       "      <td>1.000000</td>\n",
       "      <td>1.000000</td>\n",
       "      <td>0.000000</td>\n",
       "    </tr>\n",
       "    <tr>\n",
       "      <th>75%</th>\n",
       "      <td>24.000000</td>\n",
       "      <td>3972.250000</td>\n",
       "      <td>4.000000</td>\n",
       "      <td>4.000000</td>\n",
       "      <td>42.000000</td>\n",
       "      <td>2.000000</td>\n",
       "      <td>1.000000</td>\n",
       "      <td>1.000000</td>\n",
       "    </tr>\n",
       "    <tr>\n",
       "      <th>max</th>\n",
       "      <td>72.000000</td>\n",
       "      <td>18424.000000</td>\n",
       "      <td>4.000000</td>\n",
       "      <td>4.000000</td>\n",
       "      <td>75.000000</td>\n",
       "      <td>4.000000</td>\n",
       "      <td>2.000000</td>\n",
       "      <td>1.000000</td>\n",
       "    </tr>\n",
       "  </tbody>\n",
       "</table>\n",
       "</div>"
      ],
      "text/plain": [
       "       duration.in.month  credit.amount  \\\n",
       "count        1000.000000    1000.000000   \n",
       "mean           20.903000    3271.258000   \n",
       "std            12.058814    2822.736876   \n",
       "min             4.000000     250.000000   \n",
       "25%            12.000000    1365.500000   \n",
       "50%            18.000000    2319.500000   \n",
       "75%            24.000000    3972.250000   \n",
       "max            72.000000   18424.000000   \n",
       "\n",
       "       installment.rate.in.percentage.of.disposable.income  \\\n",
       "count                                        1000.000000     \n",
       "mean                                            2.973000     \n",
       "std                                             1.118715     \n",
       "min                                             1.000000     \n",
       "25%                                             2.000000     \n",
       "50%                                             3.000000     \n",
       "75%                                             4.000000     \n",
       "max                                             4.000000     \n",
       "\n",
       "       present.residence.since  age.in.years  \\\n",
       "count              1000.000000   1000.000000   \n",
       "mean                  2.845000     35.546000   \n",
       "std                   1.103718     11.375469   \n",
       "min                   1.000000     19.000000   \n",
       "25%                   2.000000     27.000000   \n",
       "50%                   3.000000     33.000000   \n",
       "75%                   4.000000     42.000000   \n",
       "max                   4.000000     75.000000   \n",
       "\n",
       "       number.of.existing.credits.at.this.bank  \\\n",
       "count                              1000.000000   \n",
       "mean                                  1.407000   \n",
       "std                                   0.577654   \n",
       "min                                   1.000000   \n",
       "25%                                   1.000000   \n",
       "50%                                   1.000000   \n",
       "75%                                   2.000000   \n",
       "max                                   4.000000   \n",
       "\n",
       "       number.of.people.being.liable.to.provide.maintenance.for            y  \n",
       "count                                        1000.000000         1000.000000  \n",
       "mean                                            1.155000            0.300000  \n",
       "std                                             0.362086            0.458487  \n",
       "min                                             1.000000            0.000000  \n",
       "25%                                             1.000000            0.000000  \n",
       "50%                                             1.000000            0.000000  \n",
       "75%                                             1.000000            1.000000  \n",
       "max                                             2.000000            1.000000  "
      ]
     },
     "execution_count": 86,
     "metadata": {},
     "output_type": "execute_result"
    }
   ],
   "source": [
    "dt.describe()"
   ]
  },
  {
   "attachments": {},
   "cell_type": "markdown",
   "metadata": {},
   "source": [
    "### **Credit.amount**"
   ]
  },
  {
   "cell_type": "code",
   "execution_count": 87,
   "metadata": {},
   "outputs": [
    {
     "data": {
      "image/png": "[encoded data removed]",
      "text/plain": [
       "<Figure size 500x500 with 1 Axes>"
      ]
     },
     "metadata": {},
     "output_type": "display_data"
    }
   ],
   "source": [
    "sns.displot(x=(dt['credit.amount']), kind=\"kde\", fill=True)\n",
    "plt.show()"
   ]
  },
  {
   "cell_type": "code",
   "execution_count": 88,
   "metadata": {},
   "outputs": [
    {
     "data": {
      "image/png": "[encoded data removed]",
      "text/plain": [
       "<Figure size 500x500 with 1 Axes>"
      ]
     },
     "metadata": {},
     "output_type": "display_data"
    }
   ],
   "source": [
    "sns.displot(x=np.log(dt['credit.amount']), kind=\"kde\", fill=True)\n",
    "plt.show()"
   ]
  },
  {
   "cell_type": "code",
   "execution_count": 89,
   "metadata": {},
   "outputs": [],
   "source": [
    "dt['credit.amount']=np.log(dt['credit.amount'])"
   ]
  },
  {
   "cell_type": "code",
   "execution_count": 90,
   "metadata": {},
   "outputs": [
    {
     "data": {
      "image/png": "[encoded data removed]",
      "text/plain": [
       "<Figure size 558.875x500 with 1 Axes>"
      ]
     },
     "metadata": {},
     "output_type": "display_data"
    }
   ],
   "source": [
    "sns.displot(x=(dt['credit.amount']), kind=\"kde\", fill=True, hue=dt.y, common_norm=False)\n",
    "plt.show()"
   ]
  },
  {
   "cell_type": "code",
   "execution_count": 91,
   "metadata": {},
   "outputs": [
    {
     "name": "stdout",
     "output_type": "stream",
     "text": [
      "[12.12709264] [0.00051849]\n"
     ]
    }
   ],
   "source": [
    "fvalue, pvalue = f_oneway(dt.loc[dt[\"y\"]==0,['credit.amount']], dt.loc[dt[\"y\"]==1,['credit.amount']])\n",
    "print(fvalue, pvalue)\n"
   ]
  },
  {
   "attachments": {},
   "cell_type": "markdown",
   "metadata": {},
   "source": [
    "### **duration.in.month**"
   ]
  },
  {
   "cell_type": "code",
   "execution_count": 92,
   "metadata": {},
   "outputs": [
    {
     "data": {
      "image/png": "[encoded data removed]",
      "text/plain": [
       "<Figure size 500x500 with 1 Axes>"
      ]
     },
     "metadata": {},
     "output_type": "display_data"
    }
   ],
   "source": [
    "sns.displot(x=(dt['duration.in.month']), kind=\"kde\", fill=True)\n",
    "plt.show()"
   ]
  },
  {
   "cell_type": "code",
   "execution_count": 93,
   "metadata": {},
   "outputs": [
    {
     "data": {
      "image/png": "[encoded data removed]",
      "text/plain": [
       "<Figure size 558.875x500 with 1 Axes>"
      ]
     },
     "metadata": {},
     "output_type": "display_data"
    }
   ],
   "source": [
    "sns.displot(x=(dt['duration.in.month']), kind=\"kde\", fill=True, hue=dt.y, common_norm=False)\n",
    "plt.show()"
   ]
  },
  {
   "cell_type": "code",
   "execution_count": 94,
   "metadata": {},
   "outputs": [
    {
     "name": "stdout",
     "output_type": "stream",
     "text": [
      "[48.33379013] [6.48804988e-12]\n"
     ]
    }
   ],
   "source": [
    "fvalue, pvalue = f_oneway(dt.loc[dt[\"y\"]==0,['duration.in.month']], dt.loc[dt[\"y\"]==1,['duration.in.month']])\n",
    "print(fvalue, pvalue)"
   ]
  },
  {
   "attachments": {},
   "cell_type": "markdown",
   "metadata": {},
   "source": [
    "Tendría que continuar con el análisis del resto de variables continuas ....."
   ]
  },
  {
   "cell_type": "code",
   "execution_count": 95,
   "metadata": {},
   "outputs": [],
   "source": [
    "# sns.pairplot(dt, hue=\"y\")"
   ]
  },
  {
   "attachments": {},
   "cell_type": "markdown",
   "metadata": {},
   "source": [
    "# **Selección de Variables**: análisis de Concentración para seleccionar las variables más **importantes** para meter en el modelo"
   ]
  },
  {
   "attachments": {},
   "cell_type": "markdown",
   "metadata": {},
   "source": [
    "### Dividimos la muestra en entrenamiento y test"
   ]
  },
  {
   "cell_type": "code",
   "execution_count": 96,
   "metadata": {},
   "outputs": [],
   "source": [
    "dt_train, dt_test = train_test_split(dt,stratify=dt[\"y\"], test_size=.25, random_state=1234)"
   ]
  },
  {
   "cell_type": "code",
   "execution_count": 97,
   "metadata": {},
   "outputs": [
    {
     "data": {
      "text/plain": [
       "(750,)"
      ]
     },
     "execution_count": 97,
     "metadata": {},
     "output_type": "execute_result"
    }
   ],
   "source": [
    "dt_train[\"y\"].shape"
   ]
  },
  {
   "cell_type": "code",
   "execution_count": 98,
   "metadata": {},
   "outputs": [
    {
     "data": {
      "text/plain": [
       "0.3"
      ]
     },
     "execution_count": 98,
     "metadata": {},
     "output_type": "execute_result"
    }
   ],
   "source": [
    "dt_train[\"y\"].mean()"
   ]
  },
  {
   "cell_type": "code",
   "execution_count": 99,
   "metadata": {},
   "outputs": [
    {
     "data": {
      "text/plain": [
       "(250,)"
      ]
     },
     "execution_count": 99,
     "metadata": {},
     "output_type": "execute_result"
    }
   ],
   "source": [
    "dt_test[\"y\"].shape"
   ]
  },
  {
   "cell_type": "code",
   "execution_count": 100,
   "metadata": {},
   "outputs": [
    {
     "data": {
      "text/plain": [
       "0.3"
      ]
     },
     "execution_count": 100,
     "metadata": {},
     "output_type": "execute_result"
    }
   ],
   "source": [
    "dt_test[\"y\"].mean()"
   ]
  },
  {
   "attachments": {},
   "cell_type": "markdown",
   "metadata": {},
   "source": [
    "## Defino la tramificación óptima"
   ]
  },
  {
   "attachments": {},
   "cell_type": "markdown",
   "metadata": {},
   "source": [
    "## Tramificación de la Variable: \"credit.amount\""
   ]
  },
  {
   "cell_type": "code",
   "execution_count": 101,
   "metadata": {},
   "outputs": [],
   "source": [
    "variable=\"credit.amount\"\n",
    "X=dt_train[variable].values\n",
    "Y=dt_train['y'].values"
   ]
  },
  {
   "cell_type": "code",
   "execution_count": 102,
   "metadata": {},
   "outputs": [
    {
     "data": {
      "text/plain": [
       "array([6.86641216, 7.22475314, 7.31455255, 7.4804244 , 8.30634689,\n",
       "       8.96692848])"
      ]
     },
     "execution_count": 102,
     "metadata": {},
     "output_type": "execute_result"
    }
   ],
   "source": [
    "optb = OptimalBinning(name=variable, dtype=\"numerical\", solver=\"cp\")\n",
    "\n",
    "# Si se quisiese fijar los intervalos manualmente (porque no gusten los que obtine el agoritmo, entonces habría que usar:\n",
    "#                     user_splits=\n",
    "#                     user_splits_fixed=\n",
    "# HAy veces que los datos tienen dátos missing y códigos especiales en este caso para obtener una categoría con esos datos missing y datos especiales hay que establecerlos\n",
    "#                     special_codes = [-9, -8, -7]\n",
    "\n",
    "# Una vez definido podemos pasar a estimarlo\n",
    "optb.fit(X, Y)\n",
    "optb.splits"
   ]
  },
  {
   "attachments": {},
   "cell_type": "markdown",
   "metadata": {},
   "source": [
    "Nota: Por defecto se utiliza un arbol de clasificación para hacer una tramificación inicial, y después se aplica un proceso de optimización de agrupación de categorías para maximizar el Valor de Información "
   ]
  },
  {
   "attachments": {},
   "cell_type": "markdown",
   "metadata": {},
   "source": [
    "Una vez realizado el proceso de tramificación y agrupación óptima de categorías, obtenemos la tabla de agrupación "
   ]
  },
  {
   "cell_type": "code",
   "execution_count": 103,
   "metadata": {},
   "outputs": [
    {
     "data": {
      "text/html": [
       "<div>\n",
       "<style scoped>\n",
       "    .dataframe tbody tr th:only-of-type {\n",
       "        vertical-align: middle;\n",
       "    }\n",
       "\n",
       "    .dataframe tbody tr th {\n",
       "        vertical-align: top;\n",
       "    }\n",
       "\n",
       "    .dataframe thead th {\n",
       "        text-align: right;\n",
       "    }\n",
       "</style>\n",
       "<table border=\"1\" class=\"dataframe\">\n",
       "  <thead>\n",
       "    <tr style=\"text-align: right;\">\n",
       "      <th></th>\n",
       "      <th>Bin</th>\n",
       "      <th>Count</th>\n",
       "      <th>Count (%)</th>\n",
       "      <th>Non-event</th>\n",
       "      <th>Event</th>\n",
       "      <th>Event rate</th>\n",
       "      <th>WoE</th>\n",
       "      <th>IV</th>\n",
       "      <th>JS</th>\n",
       "    </tr>\n",
       "  </thead>\n",
       "  <tbody>\n",
       "    <tr>\n",
       "      <th>0</th>\n",
       "      <td>(-inf, 6.87)</td>\n",
       "      <td>81</td>\n",
       "      <td>0.108000</td>\n",
       "      <td>53</td>\n",
       "      <td>28</td>\n",
       "      <td>0.345679</td>\n",
       "      <td>-0.20921</td>\n",
       "      <td>0.004915</td>\n",
       "      <td>0.000613</td>\n",
       "    </tr>\n",
       "    <tr>\n",
       "      <th>1</th>\n",
       "      <td>[6.87, 7.22)</td>\n",
       "      <td>105</td>\n",
       "      <td>0.140000</td>\n",
       "      <td>71</td>\n",
       "      <td>34</td>\n",
       "      <td>0.323810</td>\n",
       "      <td>-0.110979</td>\n",
       "      <td>0.001762</td>\n",
       "      <td>0.000220</td>\n",
       "    </tr>\n",
       "    <tr>\n",
       "      <th>2</th>\n",
       "      <td>[7.22, 7.31)</td>\n",
       "      <td>40</td>\n",
       "      <td>0.053333</td>\n",
       "      <td>32</td>\n",
       "      <td>8</td>\n",
       "      <td>0.200000</td>\n",
       "      <td>0.538997</td>\n",
       "      <td>0.013689</td>\n",
       "      <td>0.001691</td>\n",
       "    </tr>\n",
       "    <tr>\n",
       "      <th>3</th>\n",
       "      <td>[7.31, 7.48)</td>\n",
       "      <td>47</td>\n",
       "      <td>0.062667</td>\n",
       "      <td>43</td>\n",
       "      <td>4</td>\n",
       "      <td>0.085106</td>\n",
       "      <td>1.527608</td>\n",
       "      <td>0.097961</td>\n",
       "      <td>0.011178</td>\n",
       "    </tr>\n",
       "    <tr>\n",
       "      <th>4</th>\n",
       "      <td>[7.48, 8.31)</td>\n",
       "      <td>293</td>\n",
       "      <td>0.390667</td>\n",
       "      <td>222</td>\n",
       "      <td>71</td>\n",
       "      <td>0.242321</td>\n",
       "      <td>0.2927</td>\n",
       "      <td>0.031407</td>\n",
       "      <td>0.003912</td>\n",
       "    </tr>\n",
       "    <tr>\n",
       "      <th>5</th>\n",
       "      <td>[8.31, 8.97)</td>\n",
       "      <td>129</td>\n",
       "      <td>0.172000</td>\n",
       "      <td>81</td>\n",
       "      <td>48</td>\n",
       "      <td>0.372093</td>\n",
       "      <td>-0.32405</td>\n",
       "      <td>0.019134</td>\n",
       "      <td>0.002381</td>\n",
       "    </tr>\n",
       "    <tr>\n",
       "      <th>6</th>\n",
       "      <td>[8.97, inf)</td>\n",
       "      <td>55</td>\n",
       "      <td>0.073333</td>\n",
       "      <td>23</td>\n",
       "      <td>32</td>\n",
       "      <td>0.581818</td>\n",
       "      <td>-1.17754</td>\n",
       "      <td>0.115885</td>\n",
       "      <td>0.013703</td>\n",
       "    </tr>\n",
       "    <tr>\n",
       "      <th>7</th>\n",
       "      <td>Special</td>\n",
       "      <td>0</td>\n",
       "      <td>0.000000</td>\n",
       "      <td>0</td>\n",
       "      <td>0</td>\n",
       "      <td>0.000000</td>\n",
       "      <td>0.0</td>\n",
       "      <td>0.000000</td>\n",
       "      <td>0.000000</td>\n",
       "    </tr>\n",
       "    <tr>\n",
       "      <th>8</th>\n",
       "      <td>Missing</td>\n",
       "      <td>0</td>\n",
       "      <td>0.000000</td>\n",
       "      <td>0</td>\n",
       "      <td>0</td>\n",
       "      <td>0.000000</td>\n",
       "      <td>0.0</td>\n",
       "      <td>0.000000</td>\n",
       "      <td>0.000000</td>\n",
       "    </tr>\n",
       "    <tr>\n",
       "      <th>Totals</th>\n",
       "      <td></td>\n",
       "      <td>750</td>\n",
       "      <td>1.000000</td>\n",
       "      <td>525</td>\n",
       "      <td>225</td>\n",
       "      <td>0.300000</td>\n",
       "      <td></td>\n",
       "      <td>0.284752</td>\n",
       "      <td>0.033698</td>\n",
       "    </tr>\n",
       "  </tbody>\n",
       "</table>\n",
       "</div>"
      ],
      "text/plain": [
       "                 Bin  Count  Count (%)  Non-event  Event  Event rate  \\\n",
       "0       (-inf, 6.87)     81   0.108000         53     28    0.345679   \n",
       "1       [6.87, 7.22)    105   0.140000         71     34    0.323810   \n",
       "2       [7.22, 7.31)     40   0.053333         32      8    0.200000   \n",
       "3       [7.31, 7.48)     47   0.062667         43      4    0.085106   \n",
       "4       [7.48, 8.31)    293   0.390667        222     71    0.242321   \n",
       "5       [8.31, 8.97)    129   0.172000         81     48    0.372093   \n",
       "6        [8.97, inf)     55   0.073333         23     32    0.581818   \n",
       "7            Special      0   0.000000          0      0    0.000000   \n",
       "8            Missing      0   0.000000          0      0    0.000000   \n",
       "Totals                  750   1.000000        525    225    0.300000   \n",
       "\n",
       "             WoE        IV        JS  \n",
       "0       -0.20921  0.004915  0.000613  \n",
       "1      -0.110979  0.001762  0.000220  \n",
       "2       0.538997  0.013689  0.001691  \n",
       "3       1.527608  0.097961  0.011178  \n",
       "4         0.2927  0.031407  0.003912  \n",
       "5       -0.32405  0.019134  0.002381  \n",
       "6       -1.17754  0.115885  0.013703  \n",
       "7            0.0  0.000000  0.000000  \n",
       "8            0.0  0.000000  0.000000  \n",
       "Totals            0.284752  0.033698  "
      ]
     },
     "execution_count": 103,
     "metadata": {},
     "output_type": "execute_result"
    }
   ],
   "source": [
    "binning_table = optb.binning_table\n",
    "binning_table.build()"
   ]
  },
  {
   "attachments": {},
   "cell_type": "markdown",
   "metadata": {},
   "source": [
    "Cabe mencionar que el WOE en esta tabla parece estar definido al revés que lo hemos hecho en clase, por lo que el signo es justo el contrario al que cabría esperar según lo que hemos visto en clase. En particular por defecto `optbinning` define el WOE de una categoría $i$ como\n",
    "$$ WOE_i =  ln \\left ( {Non-event_i \\over Non-event_{total}} \\over {Event_i \\over Event_{total}}    \\right ) $$"
   ]
  },
  {
   "attachments": {},
   "cell_type": "markdown",
   "metadata": {},
   "source": [
    "En este sentido los niveles con mayor tasa de impagados tendrán un WOE menos, y a medida que se reduzca la tasa de impagados (mejor calidad crediticia) irá aumentando el WOE. De hecho, 'optbinning' ni siquiera utiliza la misma fórmula que yo he utilizado en clase, por lo que no está acotada entre cero y uno, puede valos más que uno sin que eso signifique sobre ajuste.\n",
    "\n",
    "Por talmotivo utilizaremos como criterio de selección exclusivamente IV<0.002"
   ]
  },
  {
   "attachments": {},
   "cell_type": "markdown",
   "metadata": {},
   "source": [
    "Podemos extraer el IV y el índice de Gini a partir de la tabla"
   ]
  },
  {
   "cell_type": "code",
   "execution_count": 104,
   "metadata": {},
   "outputs": [
    {
     "name": "stdout",
     "output_type": "stream",
     "text": [
      "IV=  0.285\n",
      "Gini=  0.265\n",
      "JS=  0.034\n"
     ]
    }
   ],
   "source": [
    "print(\"IV= \", binning_table.iv.round(3))\n",
    "print(\"Gini= \", binning_table.gini.round(3))\n",
    "\n",
    "# La última columna muestra el estadístico Jensen-Shannon de divergencia.\n",
    "# Es una medida de la similaridad entre dos distribuciones de probabilidad (frecuencias de buenos y malos )\n",
    "# que está acotada entre 0 y log2 (aprox 0.70) (puede utilizarse 0.01 como mínimo) \n",
    "print(\"JS= \", binning_table.js.round(3))\n",
    "\n"
   ]
  },
  {
   "cell_type": "code",
   "execution_count": 105,
   "metadata": {},
   "outputs": [
    {
     "name": "stdout",
     "output_type": "stream",
     "text": [
      "---------------------------------------------\n",
      "OptimalBinning: Binary Binning Table Analysis\n",
      "---------------------------------------------\n",
      "\n",
      "  General metrics\n",
      "\n",
      "    Gini index               0.26474497\n",
      "    IV (Jeffrey)             0.28475238\n",
      "    JS (Jensen-Shannon)      0.03369816\n",
      "    Hellinger                0.03460398\n",
      "    Triangular               0.12840345\n",
      "    KS                       0.15746032\n",
      "    HHI                      0.22561778\n",
      "    HHI (normalized)         0.12882000\n",
      "    Cramer's V               0.23654104\n",
      "    Quality score            0.14360976\n",
      "\n",
      "  Monotonic trend                valley\n",
      "\n",
      "  Significance tests\n",
      "\n",
      "    Bin A  Bin B  t-statistic  p-value  P[A > B]  P[B > A]\n",
      "        0      1     0.098413 0.753743  0.622102  0.377898\n",
      "        1      2     2.157938 0.141835  0.939760  0.060240\n",
      "        2      3     2.398979 0.121414  0.944794  0.055206\n",
      "        3      4     5.822669 0.015821  0.003026  0.996974\n",
      "        4      5     7.449782 0.006344  0.003050  0.996950\n",
      "        5      6     6.901571 0.008612  0.003621  0.996379\n",
      "\n"
     ]
    }
   ],
   "source": [
    "# Podemos profundizar en el análisis estimando otras\n",
    "binning_table.analysis(pvalue_test=\"chi2\")\n",
    " "
   ]
  },
  {
   "cell_type": "code",
   "execution_count": 106,
   "metadata": {},
   "outputs": [
    {
     "name": "stdout",
     "output_type": "stream",
     "text": [
      "QS=  0.144\n"
     ]
    }
   ],
   "source": [
    "# Por ejemplo otra medida que suele utilizarse en el Quality score(QS) que está acotada entre 0 y 1 (puede utilizarse 0.01 como mínimo)\n",
    "print(\"QS= \", binning_table.quality_score.round(3))"
   ]
  },
  {
   "cell_type": "code",
   "execution_count": 107,
   "metadata": {},
   "outputs": [
    {
     "name": "stdout",
     "output_type": "stream",
     "text": [
      "col_0    0    1  All\n",
      "row_0               \n",
      "0       53   28   81\n",
      "1       71   34  105\n",
      "2       32    8   40\n",
      "3       43    4   47\n",
      "4      222   71  293\n",
      "5       81   48  129\n",
      "6       23   32   55\n",
      "All    525  225  750\n",
      "Test independencia. Estadístico : 41.964 p-valor: 0.0\n"
     ]
    }
   ],
   "source": [
    "# La tabla anterior también muestra la V de Cramer (por encima de 0.20 podría ser suficiente para decir que hay asociación, \n",
    "\n",
    "# pero también podemos realizar el test con la tabla de contigencia completa:Jensen-Sha\n",
    "x_transform_indices = optb.transform(X, metric=\"indices\")\n",
    "\n",
    "#pd.Series(x_transform_indices).value_counts(normalize=True,dropna=False).sort_index()\n",
    "ctabla=pd.crosstab(pd.Series(x_transform_indices),Y,margins=True).round(3)\n",
    "print(ctabla)\n",
    "\n",
    "# Chi-square test of independence. Ho: Ausencia de Asociación (independencia)\n",
    "c, p, dof, expected = chi2_contingency(ctabla) \n",
    "# Print the p-value\n",
    "print(\"Test independencia. Estadístico :\" ,round(c,3), \"p-valor:\", round(p,3))"
   ]
  },
  {
   "attachments": {},
   "cell_type": "markdown",
   "metadata": {},
   "source": [
    "Podemos realizar una representación gráfica de la Tabla de tramificación"
   ]
  },
  {
   "cell_type": "code",
   "execution_count": 108,
   "metadata": {},
   "outputs": [
    {
     "data": {
      "image/png": "[encoded data removed]",
      "text/plain": [
       "<Figure size 640x480 with 2 Axes>"
      ]
     },
     "metadata": {},
     "output_type": "display_data"
    }
   ],
   "source": [
    "binning_table.plot(metric=\"woe\")"
   ]
  },
  {
   "cell_type": "code",
   "execution_count": 109,
   "metadata": {},
   "outputs": [
    {
     "data": {
      "image/png": "[encoded data removed]",
      "text/plain": [
       "<Figure size 640x480 with 2 Axes>"
      ]
     },
     "metadata": {},
     "output_type": "display_data"
    }
   ],
   "source": [
    "binning_table.plot(metric=\"event_rate\")"
   ]
  },
  {
   "attachments": {},
   "cell_type": "markdown",
   "metadata": {},
   "source": [
    "Nótese que la relación entre lavariable x (credit.amount) y la tasa de evento (impago) es **no-lineal**"
   ]
  },
  {
   "attachments": {},
   "cell_type": "markdown",
   "metadata": {},
   "source": [
    "Ahora podemos aplicar esta tramificación óptima a la variable original y obtener la variable transformada WOE (que será una variable continua que utilizaremos en el modelode regresión)"
   ]
  },
  {
   "cell_type": "code",
   "execution_count": 110,
   "metadata": {},
   "outputs": [
    {
     "data": {
      "text/plain": [
       "-1.177540     55\n",
       "-0.324050    129\n",
       "-0.209210     81\n",
       "-0.110979    105\n",
       " 0.292700    293\n",
       " 0.538997     40\n",
       " 1.527608     47\n",
       "Name: count, dtype: int64"
      ]
     },
     "execution_count": 110,
     "metadata": {},
     "output_type": "execute_result"
    }
   ],
   "source": [
    "# Transformación WOE\n",
    "x_woe = optb.transform(X, metric=\"woe\")\n",
    "pd.Series(x_woe).value_counts().sort_index()"
   ]
  },
  {
   "attachments": {},
   "cell_type": "markdown",
   "metadata": {},
   "source": [
    "Fíjate que ahora hemos conseguido \"linealizar\" la relación entre la variable trasnformada Woe y la propensión al impago "
   ]
  },
  {
   "cell_type": "code",
   "execution_count": 111,
   "metadata": {},
   "outputs": [
    {
     "data": {
      "text/html": [
       "<div>\n",
       "<style scoped>\n",
       "    .dataframe tbody tr th:only-of-type {\n",
       "        vertical-align: middle;\n",
       "    }\n",
       "\n",
       "    .dataframe tbody tr th {\n",
       "        vertical-align: top;\n",
       "    }\n",
       "\n",
       "    .dataframe thead th {\n",
       "        text-align: right;\n",
       "    }\n",
       "</style>\n",
       "<table border=\"1\" class=\"dataframe\">\n",
       "  <thead>\n",
       "    <tr style=\"text-align: right;\">\n",
       "      <th>col_0</th>\n",
       "      <th>0</th>\n",
       "      <th>1</th>\n",
       "    </tr>\n",
       "    <tr>\n",
       "      <th>row_0</th>\n",
       "      <th></th>\n",
       "      <th></th>\n",
       "    </tr>\n",
       "  </thead>\n",
       "  <tbody>\n",
       "    <tr>\n",
       "      <th>-1.177540</th>\n",
       "      <td>0.418</td>\n",
       "      <td>0.582</td>\n",
       "    </tr>\n",
       "    <tr>\n",
       "      <th>-0.324050</th>\n",
       "      <td>0.628</td>\n",
       "      <td>0.372</td>\n",
       "    </tr>\n",
       "    <tr>\n",
       "      <th>-0.209210</th>\n",
       "      <td>0.654</td>\n",
       "      <td>0.346</td>\n",
       "    </tr>\n",
       "    <tr>\n",
       "      <th>-0.110979</th>\n",
       "      <td>0.676</td>\n",
       "      <td>0.324</td>\n",
       "    </tr>\n",
       "    <tr>\n",
       "      <th>0.292700</th>\n",
       "      <td>0.758</td>\n",
       "      <td>0.242</td>\n",
       "    </tr>\n",
       "    <tr>\n",
       "      <th>0.538997</th>\n",
       "      <td>0.800</td>\n",
       "      <td>0.200</td>\n",
       "    </tr>\n",
       "    <tr>\n",
       "      <th>1.527608</th>\n",
       "      <td>0.915</td>\n",
       "      <td>0.085</td>\n",
       "    </tr>\n",
       "  </tbody>\n",
       "</table>\n",
       "</div>"
      ],
      "text/plain": [
       "col_0          0      1\n",
       "row_0                  \n",
       "-1.177540  0.418  0.582\n",
       "-0.324050  0.628  0.372\n",
       "-0.209210  0.654  0.346\n",
       "-0.110979  0.676  0.324\n",
       " 0.292700  0.758  0.242\n",
       " 0.538997  0.800  0.200\n",
       " 1.527608  0.915  0.085"
      ]
     },
     "execution_count": 111,
     "metadata": {},
     "output_type": "execute_result"
    }
   ],
   "source": [
    "pd.crosstab(x_woe,Y,normalize=0).round(3)"
   ]
  },
  {
   "cell_type": "code",
   "execution_count": 112,
   "metadata": {},
   "outputs": [
    {
     "data": {
      "text/plain": [
       "Text(0, 0.5, 'porcentaje de impago')"
      ]
     },
     "execution_count": 112,
     "metadata": {},
     "output_type": "execute_result"
    },
    {
     "data": {
      "image/png": "[encoded data removed]",
      "text/plain": [
       "<Figure size 640x480 with 1 Axes>"
      ]
     },
     "metadata": {},
     "output_type": "display_data"
    }
   ],
   "source": [
    "fig, ax = plt.subplots()\n",
    "ax.plot(pd.crosstab(x_woe,Y,normalize=0).iloc[:,1])\n",
    "ax.set_xlabel(\"x_woe\")\n",
    "ax.set_ylabel(\"porcentaje de impago\")"
   ]
  },
  {
   "attachments": {},
   "cell_type": "markdown",
   "metadata": {},
   "source": [
    "Nótese que para hacer la validación deberíamos hacer exactamente la misma transformación WOE, con la misma tramificación, al conjunto test. Para ello debemos aplicar la transformación optima calculada con el conjunto de entrenamiento, pero sobre la muestra de validación "
   ]
  },
  {
   "cell_type": "code",
   "execution_count": 113,
   "metadata": {},
   "outputs": [
    {
     "data": {
      "text/plain": [
       "-1.177540    20\n",
       "-0.324050    38\n",
       "-0.209210    28\n",
       "-0.110979    39\n",
       " 0.292700    96\n",
       " 0.538997    14\n",
       " 1.527608    15\n",
       "Name: count, dtype: int64"
      ]
     },
     "execution_count": 113,
     "metadata": {},
     "output_type": "execute_result"
    }
   ],
   "source": [
    "# Transformación WOE en el conjunto test\n",
    "x_test_woe = optb.transform(dt_test[variable].values, metric=\"woe\")\n",
    "pd.Series(x_test_woe).value_counts().sort_index()"
   ]
  },
  {
   "attachments": {},
   "cell_type": "markdown",
   "metadata": {},
   "source": [
    "Nótese que **no** estamos calculando una nueva tramificación para el conjunto de test, sino aplicando la tramificación obtenida con el conjunto de entrenamiento.    \n",
    "En realidad si hiciéramos una tramificación óptima con el conjunto de test no tendría porqué salir igual que la estimada para el conunto de entrenamiento, como se puede comprobar a continuación"
   ]
  },
  {
   "cell_type": "code",
   "execution_count": 114,
   "metadata": {},
   "outputs": [
    {
     "name": "stdout",
     "output_type": "stream",
     "text": [
      "[6.59098554 7.06933808 7.31653738 8.8512311  9.1008029 ]\n"
     ]
    },
    {
     "data": {
      "text/html": [
       "<div>\n",
       "<style scoped>\n",
       "    .dataframe tbody tr th:only-of-type {\n",
       "        vertical-align: middle;\n",
       "    }\n",
       "\n",
       "    .dataframe tbody tr th {\n",
       "        vertical-align: top;\n",
       "    }\n",
       "\n",
       "    .dataframe thead th {\n",
       "        text-align: right;\n",
       "    }\n",
       "</style>\n",
       "<table border=\"1\" class=\"dataframe\">\n",
       "  <thead>\n",
       "    <tr style=\"text-align: right;\">\n",
       "      <th></th>\n",
       "      <th>Bin</th>\n",
       "      <th>Count</th>\n",
       "      <th>Count (%)</th>\n",
       "      <th>Non-event</th>\n",
       "      <th>Event</th>\n",
       "      <th>Event rate</th>\n",
       "      <th>WoE</th>\n",
       "      <th>IV</th>\n",
       "      <th>JS</th>\n",
       "    </tr>\n",
       "  </thead>\n",
       "  <tbody>\n",
       "    <tr>\n",
       "      <th>0</th>\n",
       "      <td>(-inf, 6.59)</td>\n",
       "      <td>15</td>\n",
       "      <td>0.060</td>\n",
       "      <td>12</td>\n",
       "      <td>3</td>\n",
       "      <td>0.200000</td>\n",
       "      <td>0.538997</td>\n",
       "      <td>0.015400</td>\n",
       "      <td>0.001902</td>\n",
       "    </tr>\n",
       "    <tr>\n",
       "      <th>1</th>\n",
       "      <td>[6.59, 7.07)</td>\n",
       "      <td>29</td>\n",
       "      <td>0.116</td>\n",
       "      <td>23</td>\n",
       "      <td>6</td>\n",
       "      <td>0.206897</td>\n",
       "      <td>0.496437</td>\n",
       "      <td>0.025531</td>\n",
       "      <td>0.003159</td>\n",
       "    </tr>\n",
       "    <tr>\n",
       "      <th>2</th>\n",
       "      <td>[7.07, 7.32)</td>\n",
       "      <td>37</td>\n",
       "      <td>0.148</td>\n",
       "      <td>27</td>\n",
       "      <td>10</td>\n",
       "      <td>0.270270</td>\n",
       "      <td>0.145954</td>\n",
       "      <td>0.003058</td>\n",
       "      <td>0.000382</td>\n",
       "    </tr>\n",
       "    <tr>\n",
       "      <th>3</th>\n",
       "      <td>[7.32, 8.85)</td>\n",
       "      <td>140</td>\n",
       "      <td>0.560</td>\n",
       "      <td>98</td>\n",
       "      <td>42</td>\n",
       "      <td>0.300000</td>\n",
       "      <td>0.0</td>\n",
       "      <td>0.000000</td>\n",
       "      <td>0.000000</td>\n",
       "    </tr>\n",
       "    <tr>\n",
       "      <th>4</th>\n",
       "      <td>[8.85, 9.10)</td>\n",
       "      <td>15</td>\n",
       "      <td>0.060</td>\n",
       "      <td>9</td>\n",
       "      <td>6</td>\n",
       "      <td>0.400000</td>\n",
       "      <td>-0.441833</td>\n",
       "      <td>0.012624</td>\n",
       "      <td>0.001565</td>\n",
       "    </tr>\n",
       "    <tr>\n",
       "      <th>5</th>\n",
       "      <td>[9.10, inf)</td>\n",
       "      <td>14</td>\n",
       "      <td>0.056</td>\n",
       "      <td>6</td>\n",
       "      <td>8</td>\n",
       "      <td>0.571429</td>\n",
       "      <td>-1.13498</td>\n",
       "      <td>0.082151</td>\n",
       "      <td>0.009751</td>\n",
       "    </tr>\n",
       "    <tr>\n",
       "      <th>6</th>\n",
       "      <td>Special</td>\n",
       "      <td>0</td>\n",
       "      <td>0.000</td>\n",
       "      <td>0</td>\n",
       "      <td>0</td>\n",
       "      <td>0.000000</td>\n",
       "      <td>0.0</td>\n",
       "      <td>0.000000</td>\n",
       "      <td>0.000000</td>\n",
       "    </tr>\n",
       "    <tr>\n",
       "      <th>7</th>\n",
       "      <td>Missing</td>\n",
       "      <td>0</td>\n",
       "      <td>0.000</td>\n",
       "      <td>0</td>\n",
       "      <td>0</td>\n",
       "      <td>0.000000</td>\n",
       "      <td>0.0</td>\n",
       "      <td>0.000000</td>\n",
       "      <td>0.000000</td>\n",
       "    </tr>\n",
       "    <tr>\n",
       "      <th>Totals</th>\n",
       "      <td></td>\n",
       "      <td>250</td>\n",
       "      <td>1.000</td>\n",
       "      <td>175</td>\n",
       "      <td>75</td>\n",
       "      <td>0.300000</td>\n",
       "      <td></td>\n",
       "      <td>0.138764</td>\n",
       "      <td>0.016759</td>\n",
       "    </tr>\n",
       "  </tbody>\n",
       "</table>\n",
       "</div>"
      ],
      "text/plain": [
       "                 Bin  Count  Count (%)  Non-event  Event  Event rate  \\\n",
       "0       (-inf, 6.59)     15      0.060         12      3    0.200000   \n",
       "1       [6.59, 7.07)     29      0.116         23      6    0.206897   \n",
       "2       [7.07, 7.32)     37      0.148         27     10    0.270270   \n",
       "3       [7.32, 8.85)    140      0.560         98     42    0.300000   \n",
       "4       [8.85, 9.10)     15      0.060          9      6    0.400000   \n",
       "5        [9.10, inf)     14      0.056          6      8    0.571429   \n",
       "6            Special      0      0.000          0      0    0.000000   \n",
       "7            Missing      0      0.000          0      0    0.000000   \n",
       "Totals                  250      1.000        175     75    0.300000   \n",
       "\n",
       "             WoE        IV        JS  \n",
       "0       0.538997  0.015400  0.001902  \n",
       "1       0.496437  0.025531  0.003159  \n",
       "2       0.145954  0.003058  0.000382  \n",
       "3            0.0  0.000000  0.000000  \n",
       "4      -0.441833  0.012624  0.001565  \n",
       "5       -1.13498  0.082151  0.009751  \n",
       "6            0.0  0.000000  0.000000  \n",
       "7            0.0  0.000000  0.000000  \n",
       "Totals            0.138764  0.016759  "
      ]
     },
     "execution_count": 114,
     "metadata": {},
     "output_type": "execute_result"
    }
   ],
   "source": [
    "variable=\"credit.amount\"\n",
    "X_test=dt_test[variable].values\n",
    "Y_test=dt_test['y'].values\n",
    "optb_test = OptimalBinning(name=variable, dtype=\"numerical\")\n",
    "optb_test.fit(X_test, Y_test)\n",
    "print(optb_test.splits)\n",
    "binning_table_test = optb_test.binning_table\n",
    "binning_table_test.build()"
   ]
  },
  {
   "attachments": {},
   "cell_type": "markdown",
   "metadata": {},
   "source": [
    "Nótese que con el conjunto de test se han obtenido sólo 6 tramos y con diferentes puntos de corte ( y diferentes WOE), por eso es necesario no hacer una nueva tramificación al conjnto de test sino aplicar la tramificación obtenida usando en el conjunto de entrenamiento"
   ]
  },
  {
   "attachments": {},
   "cell_type": "markdown",
   "metadata": {},
   "source": [
    "## Tramificación de la duración en meses"
   ]
  },
  {
   "cell_type": "code",
   "execution_count": 115,
   "metadata": {},
   "outputs": [
    {
     "data": {
      "text/plain": [
       "array([ 7.5, 11.5, 15.5, 34.5, 43.5])"
      ]
     },
     "execution_count": 115,
     "metadata": {},
     "output_type": "execute_result"
    }
   ],
   "source": [
    "variable=\"duration.in.month\"\n",
    "X=dt_train[variable].values\n",
    "Y=dt_train['y'].values\n",
    "\n",
    "optb = OptimalBinning(name=variable, dtype=\"numerical\", solver=\"cp\")\n",
    "\n",
    "optb.fit(X, Y)\n",
    "optb.splits"
   ]
  },
  {
   "cell_type": "code",
   "execution_count": 116,
   "metadata": {},
   "outputs": [
    {
     "data": {
      "text/html": [
       "<div>\n",
       "<style scoped>\n",
       "    .dataframe tbody tr th:only-of-type {\n",
       "        vertical-align: middle;\n",
       "    }\n",
       "\n",
       "    .dataframe tbody tr th {\n",
       "        vertical-align: top;\n",
       "    }\n",
       "\n",
       "    .dataframe thead th {\n",
       "        text-align: right;\n",
       "    }\n",
       "</style>\n",
       "<table border=\"1\" class=\"dataframe\">\n",
       "  <thead>\n",
       "    <tr style=\"text-align: right;\">\n",
       "      <th></th>\n",
       "      <th>Bin</th>\n",
       "      <th>Count</th>\n",
       "      <th>Count (%)</th>\n",
       "      <th>Non-event</th>\n",
       "      <th>Event</th>\n",
       "      <th>Event rate</th>\n",
       "      <th>WoE</th>\n",
       "      <th>IV</th>\n",
       "      <th>JS</th>\n",
       "    </tr>\n",
       "  </thead>\n",
       "  <tbody>\n",
       "    <tr>\n",
       "      <th>0</th>\n",
       "      <td>(-inf, 7.50)</td>\n",
       "      <td>65</td>\n",
       "      <td>0.086667</td>\n",
       "      <td>59</td>\n",
       "      <td>6</td>\n",
       "      <td>0.092308</td>\n",
       "      <td>1.43848</td>\n",
       "      <td>0.123298</td>\n",
       "      <td>0.014207</td>\n",
       "    </tr>\n",
       "    <tr>\n",
       "      <th>1</th>\n",
       "      <td>[7.50, 11.50)</td>\n",
       "      <td>70</td>\n",
       "      <td>0.093333</td>\n",
       "      <td>56</td>\n",
       "      <td>14</td>\n",
       "      <td>0.200000</td>\n",
       "      <td>0.538997</td>\n",
       "      <td>0.023955</td>\n",
       "      <td>0.002959</td>\n",
       "    </tr>\n",
       "    <tr>\n",
       "      <th>2</th>\n",
       "      <td>[11.50, 15.50)</td>\n",
       "      <td>192</td>\n",
       "      <td>0.256000</td>\n",
       "      <td>145</td>\n",
       "      <td>47</td>\n",
       "      <td>0.244792</td>\n",
       "      <td>0.279288</td>\n",
       "      <td>0.018797</td>\n",
       "      <td>0.002342</td>\n",
       "    </tr>\n",
       "    <tr>\n",
       "      <th>3</th>\n",
       "      <td>[15.50, 34.50)</td>\n",
       "      <td>293</td>\n",
       "      <td>0.390667</td>\n",
       "      <td>195</td>\n",
       "      <td>98</td>\n",
       "      <td>0.334471</td>\n",
       "      <td>-0.159266</td>\n",
       "      <td>0.010213</td>\n",
       "      <td>0.001275</td>\n",
       "    </tr>\n",
       "    <tr>\n",
       "      <th>4</th>\n",
       "      <td>[34.50, 43.50)</td>\n",
       "      <td>83</td>\n",
       "      <td>0.110667</td>\n",
       "      <td>49</td>\n",
       "      <td>34</td>\n",
       "      <td>0.409639</td>\n",
       "      <td>-0.481838</td>\n",
       "      <td>0.027840</td>\n",
       "      <td>0.003447</td>\n",
       "    </tr>\n",
       "    <tr>\n",
       "      <th>5</th>\n",
       "      <td>[43.50, inf)</td>\n",
       "      <td>47</td>\n",
       "      <td>0.062667</td>\n",
       "      <td>21</td>\n",
       "      <td>26</td>\n",
       "      <td>0.553191</td>\n",
       "      <td>-1.060872</td>\n",
       "      <td>0.080155</td>\n",
       "      <td>0.009574</td>\n",
       "    </tr>\n",
       "    <tr>\n",
       "      <th>6</th>\n",
       "      <td>Special</td>\n",
       "      <td>0</td>\n",
       "      <td>0.000000</td>\n",
       "      <td>0</td>\n",
       "      <td>0</td>\n",
       "      <td>0.000000</td>\n",
       "      <td>0.0</td>\n",
       "      <td>0.000000</td>\n",
       "      <td>0.000000</td>\n",
       "    </tr>\n",
       "    <tr>\n",
       "      <th>7</th>\n",
       "      <td>Missing</td>\n",
       "      <td>0</td>\n",
       "      <td>0.000000</td>\n",
       "      <td>0</td>\n",
       "      <td>0</td>\n",
       "      <td>0.000000</td>\n",
       "      <td>0.0</td>\n",
       "      <td>0.000000</td>\n",
       "      <td>0.000000</td>\n",
       "    </tr>\n",
       "    <tr>\n",
       "      <th>Totals</th>\n",
       "      <td></td>\n",
       "      <td>750</td>\n",
       "      <td>1.000000</td>\n",
       "      <td>525</td>\n",
       "      <td>225</td>\n",
       "      <td>0.300000</td>\n",
       "      <td></td>\n",
       "      <td>0.284258</td>\n",
       "      <td>0.033804</td>\n",
       "    </tr>\n",
       "  </tbody>\n",
       "</table>\n",
       "</div>"
      ],
      "text/plain": [
       "                   Bin  Count  Count (%)  Non-event  Event  Event rate  \\\n",
       "0         (-inf, 7.50)     65   0.086667         59      6    0.092308   \n",
       "1        [7.50, 11.50)     70   0.093333         56     14    0.200000   \n",
       "2       [11.50, 15.50)    192   0.256000        145     47    0.244792   \n",
       "3       [15.50, 34.50)    293   0.390667        195     98    0.334471   \n",
       "4       [34.50, 43.50)     83   0.110667         49     34    0.409639   \n",
       "5         [43.50, inf)     47   0.062667         21     26    0.553191   \n",
       "6              Special      0   0.000000          0      0    0.000000   \n",
       "7              Missing      0   0.000000          0      0    0.000000   \n",
       "Totals                    750   1.000000        525    225    0.300000   \n",
       "\n",
       "             WoE        IV        JS  \n",
       "0        1.43848  0.123298  0.014207  \n",
       "1       0.538997  0.023955  0.002959  \n",
       "2       0.279288  0.018797  0.002342  \n",
       "3      -0.159266  0.010213  0.001275  \n",
       "4      -0.481838  0.027840  0.003447  \n",
       "5      -1.060872  0.080155  0.009574  \n",
       "6            0.0  0.000000  0.000000  \n",
       "7            0.0  0.000000  0.000000  \n",
       "Totals            0.284258  0.033804  "
      ]
     },
     "execution_count": 116,
     "metadata": {},
     "output_type": "execute_result"
    }
   ],
   "source": [
    "binning_table = optb.binning_table\n",
    "binning_table.build()"
   ]
  },
  {
   "cell_type": "code",
   "execution_count": 117,
   "metadata": {},
   "outputs": [
    {
     "name": "stdout",
     "output_type": "stream",
     "text": [
      "IV=  0.284\n",
      "Gini=  0.269\n"
     ]
    }
   ],
   "source": [
    "print(\"IV= \", binning_table.iv.round(3))\n",
    "print(\"Gini= \", binning_table.gini.round(3))\n"
   ]
  },
  {
   "cell_type": "code",
   "execution_count": 118,
   "metadata": {},
   "outputs": [
    {
     "data": {
      "image/png": "[encoded data removed]",
      "text/plain": [
       "<Figure size 640x480 with 2 Axes>"
      ]
     },
     "metadata": {},
     "output_type": "display_data"
    }
   ],
   "source": [
    "binning_table.plot(metric=\"woe\")"
   ]
  },
  {
   "cell_type": "code",
   "execution_count": 119,
   "metadata": {},
   "outputs": [
    {
     "data": {
      "image/png": "[encoded data removed]",
      "text/plain": [
       "<Figure size 640x480 with 2 Axes>"
      ]
     },
     "metadata": {},
     "output_type": "display_data"
    }
   ],
   "source": [
    "binning_table.plot(metric=\"event_rate\")"
   ]
  },
  {
   "cell_type": "code",
   "execution_count": 120,
   "metadata": {},
   "outputs": [
    {
     "data": {
      "text/plain": [
       "<bound method Series.sort_index of -0.159266    293\n",
       " 0.279288    192\n",
       "-0.481838     83\n",
       " 0.538997     70\n",
       " 1.438480     65\n",
       "-1.060872     47\n",
       "Name: count, dtype: int64>"
      ]
     },
     "execution_count": 120,
     "metadata": {},
     "output_type": "execute_result"
    }
   ],
   "source": [
    "# Transformación WOE\n",
    "x_woe = optb.transform(X, metric=\"woe\")\n",
    "pd.Series(x_woe).value_counts().sort_index"
   ]
  },
  {
   "cell_type": "markdown",
   "metadata": {},
   "source": [
    "### Tramificación de variable EDAD"
   ]
  },
  {
   "cell_type": "code",
   "execution_count": 121,
   "metadata": {},
   "outputs": [
    {
     "data": {
      "text/html": [
       "<div>\n",
       "<style scoped>\n",
       "    .dataframe tbody tr th:only-of-type {\n",
       "        vertical-align: middle;\n",
       "    }\n",
       "\n",
       "    .dataframe tbody tr th {\n",
       "        vertical-align: top;\n",
       "    }\n",
       "\n",
       "    .dataframe thead th {\n",
       "        text-align: right;\n",
       "    }\n",
       "</style>\n",
       "<table border=\"1\" class=\"dataframe\">\n",
       "  <thead>\n",
       "    <tr style=\"text-align: right;\">\n",
       "      <th></th>\n",
       "      <th>Bin</th>\n",
       "      <th>Count</th>\n",
       "      <th>Count (%)</th>\n",
       "      <th>Non-event</th>\n",
       "      <th>Event</th>\n",
       "      <th>Event rate</th>\n",
       "      <th>WoE</th>\n",
       "      <th>IV</th>\n",
       "      <th>JS</th>\n",
       "    </tr>\n",
       "  </thead>\n",
       "  <tbody>\n",
       "    <tr>\n",
       "      <th>0</th>\n",
       "      <td>(-inf, 25.50)</td>\n",
       "      <td>139</td>\n",
       "      <td>0.185333</td>\n",
       "      <td>81</td>\n",
       "      <td>58</td>\n",
       "      <td>0.417266</td>\n",
       "      <td>-0.513292</td>\n",
       "      <td>0.053122</td>\n",
       "      <td>0.006568</td>\n",
       "    </tr>\n",
       "    <tr>\n",
       "      <th>1</th>\n",
       "      <td>[25.50, 29.50)</td>\n",
       "      <td>146</td>\n",
       "      <td>0.194667</td>\n",
       "      <td>100</td>\n",
       "      <td>46</td>\n",
       "      <td>0.315068</td>\n",
       "      <td>-0.070769</td>\n",
       "      <td>0.000989</td>\n",
       "      <td>0.000124</td>\n",
       "    </tr>\n",
       "    <tr>\n",
       "      <th>2</th>\n",
       "      <td>[29.50, 34.50)</td>\n",
       "      <td>137</td>\n",
       "      <td>0.182667</td>\n",
       "      <td>94</td>\n",
       "      <td>43</td>\n",
       "      <td>0.313869</td>\n",
       "      <td>-0.065203</td>\n",
       "      <td>0.000787</td>\n",
       "      <td>0.000098</td>\n",
       "    </tr>\n",
       "    <tr>\n",
       "      <th>3</th>\n",
       "      <td>[34.50, 36.50)</td>\n",
       "      <td>61</td>\n",
       "      <td>0.081333</td>\n",
       "      <td>51</td>\n",
       "      <td>10</td>\n",
       "      <td>0.163934</td>\n",
       "      <td>0.781943</td>\n",
       "      <td>0.041207</td>\n",
       "      <td>0.005024</td>\n",
       "    </tr>\n",
       "    <tr>\n",
       "      <th>4</th>\n",
       "      <td>[36.50, 38.50)</td>\n",
       "      <td>38</td>\n",
       "      <td>0.050667</td>\n",
       "      <td>30</td>\n",
       "      <td>8</td>\n",
       "      <td>0.210526</td>\n",
       "      <td>0.474458</td>\n",
       "      <td>0.010242</td>\n",
       "      <td>0.001268</td>\n",
       "    </tr>\n",
       "    <tr>\n",
       "      <th>5</th>\n",
       "      <td>[38.50, 41.50)</td>\n",
       "      <td>46</td>\n",
       "      <td>0.061333</td>\n",
       "      <td>35</td>\n",
       "      <td>11</td>\n",
       "      <td>0.239130</td>\n",
       "      <td>0.310155</td>\n",
       "      <td>0.005514</td>\n",
       "      <td>0.000686</td>\n",
       "    </tr>\n",
       "    <tr>\n",
       "      <th>6</th>\n",
       "      <td>[41.50, inf)</td>\n",
       "      <td>183</td>\n",
       "      <td>0.244000</td>\n",
       "      <td>134</td>\n",
       "      <td>49</td>\n",
       "      <td>0.267760</td>\n",
       "      <td>0.158722</td>\n",
       "      <td>0.005946</td>\n",
       "      <td>0.000742</td>\n",
       "    </tr>\n",
       "    <tr>\n",
       "      <th>7</th>\n",
       "      <td>Special</td>\n",
       "      <td>0</td>\n",
       "      <td>0.000000</td>\n",
       "      <td>0</td>\n",
       "      <td>0</td>\n",
       "      <td>0.000000</td>\n",
       "      <td>0.0</td>\n",
       "      <td>0.000000</td>\n",
       "      <td>0.000000</td>\n",
       "    </tr>\n",
       "    <tr>\n",
       "      <th>8</th>\n",
       "      <td>Missing</td>\n",
       "      <td>0</td>\n",
       "      <td>0.000000</td>\n",
       "      <td>0</td>\n",
       "      <td>0</td>\n",
       "      <td>0.000000</td>\n",
       "      <td>0.0</td>\n",
       "      <td>0.000000</td>\n",
       "      <td>0.000000</td>\n",
       "    </tr>\n",
       "    <tr>\n",
       "      <th>Totals</th>\n",
       "      <td></td>\n",
       "      <td>750</td>\n",
       "      <td>1.000000</td>\n",
       "      <td>525</td>\n",
       "      <td>225</td>\n",
       "      <td>0.300000</td>\n",
       "      <td></td>\n",
       "      <td>0.117806</td>\n",
       "      <td>0.014511</td>\n",
       "    </tr>\n",
       "  </tbody>\n",
       "</table>\n",
       "</div>"
      ],
      "text/plain": [
       "                   Bin  Count  Count (%)  Non-event  Event  Event rate  \\\n",
       "0        (-inf, 25.50)    139   0.185333         81     58    0.417266   \n",
       "1       [25.50, 29.50)    146   0.194667        100     46    0.315068   \n",
       "2       [29.50, 34.50)    137   0.182667         94     43    0.313869   \n",
       "3       [34.50, 36.50)     61   0.081333         51     10    0.163934   \n",
       "4       [36.50, 38.50)     38   0.050667         30      8    0.210526   \n",
       "5       [38.50, 41.50)     46   0.061333         35     11    0.239130   \n",
       "6         [41.50, inf)    183   0.244000        134     49    0.267760   \n",
       "7              Special      0   0.000000          0      0    0.000000   \n",
       "8              Missing      0   0.000000          0      0    0.000000   \n",
       "Totals                    750   1.000000        525    225    0.300000   \n",
       "\n",
       "             WoE        IV        JS  \n",
       "0      -0.513292  0.053122  0.006568  \n",
       "1      -0.070769  0.000989  0.000124  \n",
       "2      -0.065203  0.000787  0.000098  \n",
       "3       0.781943  0.041207  0.005024  \n",
       "4       0.474458  0.010242  0.001268  \n",
       "5       0.310155  0.005514  0.000686  \n",
       "6       0.158722  0.005946  0.000742  \n",
       "7            0.0  0.000000  0.000000  \n",
       "8            0.0  0.000000  0.000000  \n",
       "Totals            0.117806  0.014511  "
      ]
     },
     "execution_count": 121,
     "metadata": {},
     "output_type": "execute_result"
    }
   ],
   "source": [
    "# Realizamos la trimificación optima de age.in.years\n",
    "variable=\"age.in.years\"\n",
    "X=dt_train[variable].values\n",
    "Y=dt_train['y'].values\n",
    "optb = OptimalBinning(name=variable, dtype=\"numerical\", solver=\"cp\")\n",
    "optb.fit(X, Y)\n",
    "optb.splits\n",
    "binning_table = optb.binning_table\n",
    "binning_table.build()"
   ]
  },
  {
   "attachments": {},
   "cell_type": "markdown",
   "metadata": {},
   "source": [
    "# Agrupción de niveles en variables Vbles Categóricas"
   ]
  },
  {
   "attachments": {},
   "cell_type": "markdown",
   "metadata": {},
   "source": [
    "En realidad, cuando tenemosvariables categóricas, no es necesario tramificar, pero sí hacer una agrupación de los diferentes niveles de forma que se maximice el *valor de información*"
   ]
  },
  {
   "attachments": {},
   "cell_type": "markdown",
   "metadata": {},
   "source": [
    "## Agrupación de la variable  *purpose*"
   ]
  },
  {
   "cell_type": "code",
   "execution_count": null,
   "metadata": {},
   "outputs": [],
   "source": [
    "variable_cat = \"purpose\"\n",
    "X_cat = dt_train[variable_cat].values\n",
    "Y_cat = dt_train['y'].values\n",
    "\n",
    "dt_train[variable_cat].value_counts()"
   ]
  },
  {
   "cell_type": "code",
   "execution_count": null,
   "metadata": {},
   "outputs": [],
   "source": [
    "\n",
    "optb = OptimalBinning(name=variable_cat, dtype=\"categorical\", solver=\"cp\",\n",
    "                      cat_cutoff=0.1)  # podemos cambiar los valores por defecto cat_cutoff=None, o, cat_cutoff=0.005\n",
    "\n",
    "optb.fit(X_cat, Y_cat)\n",
    "optb.splits"
   ]
  },
  {
   "cell_type": "code",
   "execution_count": null,
   "metadata": {},
   "outputs": [],
   "source": [
    "binning_table = optb.binning_table\n",
    "binning_table.build()"
   ]
  },
  {
   "cell_type": "code",
   "execution_count": null,
   "metadata": {},
   "outputs": [],
   "source": [
    "binning_table.plot(metric=\"event_rate\")"
   ]
  },
  {
   "cell_type": "code",
   "execution_count": null,
   "metadata": {},
   "outputs": [],
   "source": [
    "x_woe = optb.transform(X_cat, metric=\"woe\")\n",
    "pd.Series(x_woe).value_counts()\n"
   ]
  },
  {
   "attachments": {},
   "cell_type": "markdown",
   "metadata": {},
   "source": [
    "__________________________________________________________________________________________________________________________________________________________________________________________________\n",
    "__________________________________________________________________________________________________________________________________________________________________________________________________\n",
    "\n",
    "__________________________________________________________________________________________________________________________________________________________________________________________________\n",
    "__________________________________________________________________________________________________________________________________________________________________________________________________"
   ]
  },
  {
   "attachments": {},
   "cell_type": "markdown",
   "metadata": {},
   "source": [
    "# Proceso de tramificación, agrupación y trasformación WOE Completo\n",
    "\n",
    "Para no ir variable a variable se puede hacer todo el proceso completo"
   ]
  },
  {
   "attachments": {},
   "cell_type": "markdown",
   "metadata": {},
   "source": [
    "Proceso Entero\n",
    "\n"
   ]
  },
  {
   "cell_type": "code",
   "execution_count": null,
   "metadata": {},
   "outputs": [],
   "source": [
    "# 1) Definimos la lista de nombres señalando cualse de ellas son las categóricas\n",
    "Y = dt_train['y'].values\n",
    "X = dt_train.drop(columns=['y']) #todas menos la primera que es el ID y la variable y\n",
    "list_variables = X.columns.values.tolist()\n",
    "list_categorical = X.select_dtypes(include=['object', 'category']).columns.values.tolist()"
   ]
  },
  {
   "cell_type": "code",
   "execution_count": null,
   "metadata": {},
   "outputs": [],
   "source": [
    "# 2) Definimos el criterio de selección\n",
    "selection_criteria = {\n",
    "    \"iv\": {\"min\": 0.02}  # no imponemos \"max\": 1}\n",
    "}"
   ]
  },
  {
   "cell_type": "code",
   "execution_count": null,
   "metadata": {},
   "outputs": [],
   "source": [
    "# En caso de que desee modificarse los valores por defecto en el proceso de tramificación de alguna variable puede hacerse en forma de diccionario\n",
    "\n",
    "binning_fit_params={\n",
    "    \"purpose\":{\"cat_cutoff\": 0.10}\n",
    "}"
   ]
  },
  {
   "cell_type": "code",
   "execution_count": null,
   "metadata": {},
   "outputs": [],
   "source": [
    "# 3) Definimos el proceso de Tramificación o BinningProcess\n",
    "binning_process = BinningProcess(\n",
    "    categorical_variables=list_categorical,\n",
    "    variable_names=list_variables,\n",
    "    selection_criteria=selection_criteria,\n",
    "    binning_fit_params=binning_fit_params)"
   ]
  },
  {
   "cell_type": "code",
   "execution_count": null,
   "metadata": {},
   "outputs": [],
   "source": [
    "# 4) Obtenemos los tramos optimos de todas las Variables\n",
    "dt_train_binned = binning_process.fit(X, Y)"
   ]
  },
  {
   "cell_type": "code",
   "execution_count": null,
   "metadata": {},
   "outputs": [],
   "source": [
    "dt_train_binned.summary().sort_values('iv')"
   ]
  },
  {
   "cell_type": "code",
   "execution_count": null,
   "metadata": {},
   "outputs": [],
   "source": [
    "# Ahora podemos ir sacando las tablas para cada variable\n",
    "\n",
    "dt_train_binned.get_binned_variable(\"credit.amount\").binning_table.build()"
   ]
  },
  {
   "cell_type": "code",
   "execution_count": null,
   "metadata": {},
   "outputs": [],
   "source": [
    "dt_train_binned.get_binned_variable(\"purpose\").binning_table.build()"
   ]
  },
  {
   "cell_type": "code",
   "execution_count": null,
   "metadata": {},
   "outputs": [],
   "source": [
    "dt_train_binned.information()"
   ]
  },
  {
   "cell_type": "code",
   "execution_count": null,
   "metadata": {},
   "outputs": [],
   "source": [
    "# las variables seleccionadas se pueden obtener con 'get_support'\"Tarea Estudiantes_TarjetaPuntuacion\"\n",
    "dt_train_binned.get_support()"
   ]
  },
  {
   "cell_type": "code",
   "execution_count": null,
   "metadata": {},
   "outputs": [],
   "source": [
    "# Podemos transformar las variables WOE\n",
    "dt_train_woe=dt_train_binned.transform(X, metric=\"woe\")\n",
    "\n",
    "\n",
    "# Existe la posibilidad de obtener directamente las transformada si en lugar de usar fit, hubiésemos usado fit_transform \n",
    "# dt_train_binned = binning_process.fit_transform(X, Y)\n",
    "# dt_train_binned.info()\n",
    "# el resultado sería un data.frame con las X seleccionadas trasnsformadas WOE\n",
    "\n"
   ]
  },
  {
   "cell_type": "code",
   "execution_count": null,
   "metadata": {},
   "outputs": [],
   "source": [
    "dt_train_woe.info()"
   ]
  },
  {
   "cell_type": "code",
   "execution_count": null,
   "metadata": {},
   "outputs": [],
   "source": [
    "dt_train_woe"
   ]
  },
  {
   "cell_type": "code",
   "execution_count": null,
   "metadata": {},
   "outputs": [],
   "source": [
    "# Ahora aplicaríamos la misma transformación pero al conjunto de test (si hubiera que puntuar a nuevos clientes haríamos lo mismo)\n",
    "\n",
    "Y_test = dt_test['y'].values\n",
    "X_test = dt_test.drop(columns=['y']) #todas menos la primera que es el ID y la variable y\n",
    "\n",
    "dt_test_woe=dt_train_binned.transform(X_test, metric=\"woe\")\n",
    "dt_test_woe.info()\n",
    "\n",
    "\n",
    "\n"
   ]
  },
  {
   "cell_type": "code",
   "execution_count": null,
   "metadata": {},
   "outputs": [],
   "source": [
    "dt_test_woe"
   ]
  },
  {
   "attachments": {},
   "cell_type": "markdown",
   "metadata": {},
   "source": [
    "# Estimación del Modelo"
   ]
  },
  {
   "attachments": {},
   "cell_type": "markdown",
   "metadata": {},
   "source": [
    "Ahora podemos calcular la tarjeta de puntuación. En los apuntes de clase definimos tanto los WOE, como los Odd ratio como la probabilidad de `evento` respecto al `no-evento` (malos clientes o impago=1 respecto a los buenos clientes o impago=0):\n",
    "\n",
    "$$ odd = {{P}\\over {(1-P)}} ~~ {,~~  siendo} ~~  {P=Prob(impago=1)} $$\n",
    " \n",
    " Y la fórmula para obtener la puntuación o los score debe ser una relación negativa con los odd ratio: cuanto mayor la probabilidad de impago (en relación a la de no impago), menor puntuación ha de tener: \n",
    "\n",
    " $$ score {= offset - Factor}~·~{ln(odds)}$$\n",
    "\n",
    "Para pasar de Probabiliddes de impago a Puntuaciones, habrá que establecer tanto el valor de `offset` como el de `Factor`. Esto se hace de manera arbitraria dependiendo de cada institución financiera.\n",
    "\n",
    "En general, para determinar estos dos valores es necesario establecer la pendiente de la recta y un punto de la misma.\n",
    "\n",
    "En cuanto a la pendiente, cuanto más plana sea la pendiente, menor variabilidad tendrán los valores de puntuación de crédito que se alcancen, y al revés, cuanto mayor pendiente más diferencias en la puntuación final. Yo voy a utilizar un apendiente (arbitraria) estableciendo de forma arbitraria cada cuantos puntos de score (**pdo_0**) se dobla el odd ratio: $ score - pdo_0 = {offset -Factor}~ ·{ln(2*odds)}$.\n",
    "\n",
    " En cuanto al punto de la recta (arbitrario), puede hacerse estableciento (de manera arbitraria) la puntuación o score considerada como de sobresaliente(**scorecard_points**) y el odd ratio que debería tener ese cliente de *sobresaliente* (**odds_0**)\n",
    " \n",
    " Así habría que establecer tres parámetros para transformar probabilidades de impago a puntuaciones, por ejemplo:   \n",
    "\n",
    "* **pdo_0** =40  (esto es que cada 40 puntos de calidad creditica se dobla el odd-ratio))\n",
    "* **scorecard_points** =600  (alguien con calidad crediticia muy buena, de sobresaliente, sacaría 600 puntos)\n",
    "* **odds_0** =1/50  (odd ratio que se considera de sobresaliente)\n",
    "\n",
    "La librería `optBinning` [librería OptBinning](http://gnpalencia.org/optbinning/), en realidad utiliza el módulo de `credit scoring` de `SAS-miner` como inspiración, y por eso define al revés tanto los WOE como los odd ratio, es decir `no-evento` en relación a `evento` (clientes buenos respecto a los malos, o no-impago respecto a impago, impago=0 respecto a impago=1). \n",
    "$$ odd^B = {{(1-P)}\\over {P}} ~~ {,~~  siendo} ~~  {P=Prob(impago=1)} $$"
   ]
  },
  {
   "attachments": {},
   "cell_type": "markdown",
   "metadata": {},
   "source": [
    "Esto implica que la ecuación que transforma las probabilidades de impago en scores utilizando esta *odds<sup>B</sup>* debe tener pendiente positiva (cuanto mejor *odd<sup>B</sup>* mejor calidad crediticia tiene el cliente)\n",
    "\n",
    " $$ score= {offset + Factor} ~·~ {ln(odds^B)}$$\n",
    " \n",
    " Nótese que ahora habrá que establecer de nuevo los puntos de score que doblan el odd ratio (**pdo_0**), y también la puntuación o score considerada como de sobresaliente(**scorecard_points**) y el odd ratio que debería tener ese cliente de *sobresaliente* **odds_0 <sup>*B*</sup>**, con **odds_0 <sup>*B*</sup>** **= 1/odds_0**.\n",
    "\n",
    " Así para estimar la puntuación crediticia con `optBinning` hay que establecer tres parámetros para transformar probabilidades de impago a puntuaciones, por ejemplo:   \n",
    "\n",
    "* **pdo_0** =40\n",
    "* **scorecard_points** =600 \n",
    "* **odds_0 <sup>*B*</sup>** = 50  (equivalente a **odds_0** =1/50 )\n",
    "\n",
    "\n"
   ]
  },
  {
   "cell_type": "code",
   "execution_count": null,
   "metadata": {},
   "outputs": [],
   "source": [
    "\n",
    "# Directamente con el método Scorecard\n",
    "estimator = LogisticRegression(solver=\"lbfgs\")\n",
    "\n",
    "# Establecemos los parámetros para la transformación de probabilidades en puntos de calidad crediticia o score\n",
    "\n",
    "pdo_0 =40\n",
    "scorecard_points_0= 600 \n",
    "odds_0_B= 50 # (equivalente a  odds_0 =1/50 )\n",
    "\n",
    "tarjeta= Scorecard(binning_process=binning_process,\n",
    "                   estimator=estimator,\n",
    "                   scaling_method=\"pdo_odds\",\n",
    "                   scaling_method_params={\"pdo\":pdo_0, \"odds\": odds_0_B, \"scorecard_points\": scorecard_points_0})\n",
    "\n",
    "tarjeta.fit(X, Y, show_digits=4)"
   ]
  },
  {
   "cell_type": "code",
   "execution_count": 1,
   "metadata": {},
   "outputs": [
    {
     "ename": "NameError",
     "evalue": "name 'tarjeta' is not defined",
     "output_type": "error",
     "traceback": [
      "\u001b[1;31m---------------------------------------------------------------------------\u001b[0m",
      "\u001b[1;31mNameError\u001b[0m                                 Traceback (most recent call last)",
      "Cell \u001b[1;32mIn[1], line 1\u001b[0m\n\u001b[1;32m----> 1\u001b[0m \u001b[43mtarjeta\u001b[49m\u001b[38;5;241m.\u001b[39minformation(print_level\u001b[38;5;241m=\u001b[39m\u001b[38;5;241m2\u001b[39m)\n",
      "\u001b[1;31mNameError\u001b[0m: name 'tarjeta' is not defined"
     ]
    }
   ],
   "source": [
    "tarjeta.information(print_level=2)"
   ]
  },
  {
   "cell_type": "code",
   "execution_count": 2,
   "metadata": {},
   "outputs": [
    {
     "ename": "NameError",
     "evalue": "name 'tarjeta' is not defined",
     "output_type": "error",
     "traceback": [
      "\u001b[1;31m---------------------------------------------------------------------------\u001b[0m",
      "\u001b[1;31mNameError\u001b[0m                                 Traceback (most recent call last)",
      "Cell \u001b[1;32mIn[2], line 1\u001b[0m\n\u001b[1;32m----> 1\u001b[0m \u001b[43mtarjeta\u001b[49m\u001b[38;5;241m.\u001b[39mtable(style\u001b[38;5;241m=\u001b[39m\u001b[38;5;124m\"\u001b[39m\u001b[38;5;124mdetailed\u001b[39m\u001b[38;5;124m\"\u001b[39m)\n",
      "\u001b[1;31mNameError\u001b[0m: name 'tarjeta' is not defined"
     ]
    }
   ],
   "source": [
    "tarjeta.table(style=\"detailed\")"
   ]
  },
  {
   "cell_type": "code",
   "execution_count": null,
   "metadata": {},
   "outputs": [],
   "source": [
    "# obtenmos las predicciones\n",
    "Y_pred=tarjeta.predict_proba(X)[:,1]\n",
    "\n",
    "# Calculamos la media\n",
    "Y_pred.mean().round(5)\n"
   ]
  },
  {
   "cell_type": "code",
   "execution_count": null,
   "metadata": {},
   "outputs": [],
   "source": [
    "# para contruir las matrices de confusión necesitamos determinar un\n",
    "# **punto de corte de la probabilidad**.\n",
    "# Ese punto de corte es el que me va a ayudar a realizar un pronóstico sobre los clientes:\n",
    "# los malos clientes serán aquelloe para los que Prob Estimada > Prob_corte.\n"
   ]
  },
  {
   "cell_type": "code",
   "execution_count": null,
   "metadata": {},
   "outputs": [],
   "source": [
    "# Para elegir el punto de corte puede utilizarse el Plot Kolmogorov-Smirnov (KS)\n",
    "plot_ks(Y, Y_pred)"
   ]
  },
  {
   "cell_type": "code",
   "execution_count": null,
   "metadata": {},
   "outputs": [],
   "source": [
    "# También puede utilizarse el máximo del f1_score\n",
    "# definimos un vector de puntos de corte\n",
    "c=np.arange(0,1,0.01)\n",
    "# calculamos el f1_score para cada punto de corte\n",
    "f1_score_ = [f1_score(dt_train[\"y\"],np.multiply(Y_pred>c_,1)) for c_ in c]\n",
    "# obtenemos el punto de corte que maximiza el f1_score\n",
    "c_max = c[np.argmax(f1_score_)]\n",
    "print(\"El punto de corte que maximiza el f1_score es: \", c_max)\n",
    "print(\"y el máximo se alcanza en \", np.max(f1_score_).round(3))\n",
    "\n",
    "# hacemos un gráfico de c y los f1_score correspondientes\n",
    "plt.plot(c,f1_score_)\n",
    "plt.stem(c_max, np.max(f1_score_),linefmt='r--', markerfmt='ro', basefmt='r--')\n",
    "plt.title(\"Gráfico f1_score vs diferentes puntos de corte\")\n",
    "plt.text(c_max+0.05, 0, \"c_max = \"+str(c_max.round(2))+\"\\n f1_score_max = \"+str(np.max(f1_score_).round(3)))\n",
    "plt.show()\n"
   ]
  },
  {
   "cell_type": "code",
   "execution_count": null,
   "metadata": {},
   "outputs": [],
   "source": [
    "# método de Youden (J) para obtener el punto de corte óptimo\n",
    "# definimos un vector de puntos de corte (c) y de probabilidad de aceptación (p)\n",
    "c=np.arange(0,1,0.01)\n",
    "\n",
    "# Calculamos el estadístico J de Youden para cada punto de corte= Sensibilidad + Especificidad -1\n",
    "J= [balanced_accuracy_score(dt_train[\"y\"],np.multiply(Y_pred>c_,1), adjusted=True) for c_ in c ]\n",
    "# obtenemos el punto de corte que maximiza el índice de Youden\n",
    "c_max = c[np.argmax(J)]\n",
    "print(\"El punto de corte que maximiza el índice de Youden es: \", c_max)\n",
    "print(\"y el máximo se alcanza en \", np.max(J).round(3))\n",
    "\n",
    "# gráfico de c y los índices de Youden correspondientes\n",
    "plt.plot(c,J)\n",
    "plt.stem(c_max, np.max(J),linefmt='r--', markerfmt='ro', basefmt='r--')\n",
    "plt.title(\"Gráfico índice de Youden vs diferentes puntos de corte\")\n",
    "plt.text(c_max+0.05, 0, \"c_max = \"+str(c_max.round(2))+\"\\n J_max = \"+str(np.max(J).round(3)))\n",
    "plt.show()"
   ]
  },
  {
   "cell_type": "code",
   "execution_count": null,
   "metadata": {},
   "outputs": [],
   "source": [
    "# Voy a utilizar simplemente la frecuencia observada\n",
    "Prob_Corte=Y.mean()\n",
    "print(Prob_Corte)"
   ]
  },
  {
   "cell_type": "code",
   "execution_count": 3,
   "metadata": {},
   "outputs": [
    {
     "ename": "NameError",
     "evalue": "name 'np' is not defined",
     "output_type": "error",
     "traceback": [
      "\u001b[1;31m---------------------------------------------------------------------------\u001b[0m",
      "\u001b[1;31mNameError\u001b[0m                                 Traceback (most recent call last)",
      "Cell \u001b[1;32mIn[3], line 1\u001b[0m\n\u001b[1;32m----> 1\u001b[0m dt_train[\u001b[38;5;124m\"\u001b[39m\u001b[38;5;124mY_pronostico\u001b[39m\u001b[38;5;124m\"\u001b[39m]\u001b[38;5;241m=\u001b[39m\u001b[43mnp\u001b[49m\u001b[38;5;241m.\u001b[39mmultiply(Y_pred\u001b[38;5;241m>\u001b[39mProb_Corte,\u001b[38;5;241m1\u001b[39m)\n",
      "\u001b[1;31mNameError\u001b[0m: name 'np' is not defined"
     ]
    }
   ],
   "source": [
    "dt_train[\"Y_pronostico\"]=np.multiply(Y_pred>Prob_Corte,1)"
   ]
  },
  {
   "cell_type": "code",
   "execution_count": 4,
   "metadata": {},
   "outputs": [
    {
     "ename": "NameError",
     "evalue": "name 'pd' is not defined",
     "output_type": "error",
     "traceback": [
      "\u001b[1;31m---------------------------------------------------------------------------\u001b[0m",
      "\u001b[1;31mNameError\u001b[0m                                 Traceback (most recent call last)",
      "Cell \u001b[1;32mIn[4], line 4\u001b[0m\n\u001b[0;32m      1\u001b[0m \u001b[38;5;66;03m# Para comprobar la bondad de nuestras predicciones voy a comparar resultados con la tabla de confusión\u001b[39;00m\n\u001b[0;32m      2\u001b[0m \n\u001b[0;32m      3\u001b[0m \u001b[38;5;66;03m# Primero estimo la precisión (los aciertos sobre el total de mis pronósticos)\u001b[39;00m\n\u001b[1;32m----> 4\u001b[0m \u001b[43mpd\u001b[49m\u001b[38;5;241m.\u001b[39mcrosstab(dt_train[\u001b[38;5;124m\"\u001b[39m\u001b[38;5;124my\u001b[39m\u001b[38;5;124m\"\u001b[39m],dt_train[\u001b[38;5;124m\"\u001b[39m\u001b[38;5;124mY_pronostico\u001b[39m\u001b[38;5;124m\"\u001b[39m],margins\u001b[38;5;241m=\u001b[39m\u001b[38;5;28;01mTrue\u001b[39;00m, normalize\u001b[38;5;241m=\u001b[39m\u001b[38;5;241m1\u001b[39m)\u001b[38;5;241m.\u001b[39mround(\u001b[38;5;241m3\u001b[39m)\n",
      "\u001b[1;31mNameError\u001b[0m: name 'pd' is not defined"
     ]
    }
   ],
   "source": [
    "# Para comprobar la bondad de nuestras predicciones voy a comparar resultados con la tabla de confusión\n",
    "\n",
    "# Primero estimo la precisión (los aciertos sobre el total de mis pronósticos)\n",
    "pd.crosstab(dt_train[\"y\"],dt_train[\"Y_pronostico\"],margins=True, normalize=1).round(3)\n"
   ]
  },
  {
   "attachments": {},
   "cell_type": "markdown",
   "metadata": {},
   "source": [
    "Nótese que los falsos negativos (Bad Rate) es del 11.5% (préstamos aceptados o pronosticados como buenos que resultaron impagados)"
   ]
  },
  {
   "cell_type": "code",
   "execution_count": null,
   "metadata": {},
   "outputs": [],
   "source": [
    "# Ahora estimo la exhaustividad o recall (Aciertos sobre los casos reales):\n",
    "# la sensibilidad (sobre los positivos y=1), y la Especificidad (sobre los negativos y=0)\n",
    "\n",
    "pd.crosstab(dt_train[\"y\"],dt_train[\"Y_pronostico\"],margins=True, normalize=0).round(3)"
   ]
  },
  {
   "cell_type": "code",
   "execution_count": null,
   "metadata": {},
   "outputs": [],
   "source": [
    "# Por último un resumen global de aciertos\n",
    "f1_score(dt_train[\"y\"],dt_train[\"Y_pronostico\"])"
   ]
  },
  {
   "attachments": {},
   "cell_type": "markdown",
   "metadata": {},
   "source": [
    "Para hacer la diagnosis también puedo utilizar medidas que no dependan crucialmente de un único punto de corte de Probabilidad"
   ]
  },
  {
   "cell_type": "code",
   "execution_count": null,
   "metadata": {},
   "outputs": [],
   "source": [
    "# Diagnosis Curva ROC\n",
    "plot_auc_roc(Y,Y_pred)"
   ]
  },
  {
   "cell_type": "code",
   "execution_count": null,
   "metadata": {},
   "outputs": [],
   "source": [
    "# Diagnosis Cumulative Accuracy Profile (CAP)\n",
    "# Otra curva alternativa a la curva ROC que permite evaluar la bondad de un modelo de clasificación es la curva CAP (Cumulative Accuracy Profile).\n",
    "# La curva CAP se construye de la siguiente manera: ordenamos las observaciones de mayor a menor probabilidad\n",
    "# de pertenecer a la clase positiva (y=1). A continuación, vamos acumulando las observaciones y calculando\n",
    "# la proporción de positivos acumulados sobre el total de positivos. Esta proporción se representa en el eje Y.\n",
    "\n",
    "# En el eje X representamos la proporción de observaciones acumuladas sobre el total de observaciones.\n",
    "# La curva CAP se construye a partir de la curva de la línea recta (curva de referencia) y \n",
    "# la curva de la línea que representa la probabilidad estimada por el modelo.\n",
    "\n",
    "plot_cap(Y, Y_pred)"
   ]
  },
  {
   "cell_type": "code",
   "execution_count": null,
   "metadata": {},
   "outputs": [],
   "source": [
    "#### OJO que la diagnosis debe hacerse fuera de la muestra de entrenamiento\n",
    "# obtenmos las predicciones\n",
    "Y_test_pred=tarjeta.predict_proba(X_test)[:,1]\n",
    "\n",
    "# Calculamos la media\n",
    "Y_test_pred.mean().round(5)"
   ]
  },
  {
   "cell_type": "code",
   "execution_count": null,
   "metadata": {},
   "outputs": [],
   "source": [
    "# Diagnosis Curva ROC\n",
    "plot_auc_roc(Y_test,Y_test_pred)\n"
   ]
  },
  {
   "cell_type": "code",
   "execution_count": null,
   "metadata": {},
   "outputs": [],
   "source": [
    "plot_cap(Y_test,Y_test_pred)"
   ]
  },
  {
   "cell_type": "code",
   "execution_count": null,
   "metadata": {},
   "outputs": [],
   "source": [
    "dt_test[\"Y_pronostico\"]=np.multiply(Y_test_pred>Prob_Corte,1)\n",
    "\n",
    "# Primero estimo la precisión (los aciertos sobre el total de mis pronósticos)\n",
    "print(\"\\n Precisión:\\n\", pd.crosstab(dt_test[\"y\"],dt_test[\"Y_pronostico\"],margins=True, normalize=1).round(3))\n",
    "\n",
    "# Ahora estimo la exhaustividad o recall (Aciertos sobre los casos reales):\n",
    "# la sensibilidad (sobre los positivos y=1), y la Especificidad (sobre los negativos y=0)\n",
    "print(\"\\n exhaustividad:\\n\",pd.crosstab(dt_test[\"y\"],dt_test[\"Y_pronostico\"],margins=True, normalize=0).round(3))\n",
    "\n",
    "# Por último un resumen global de aciertos\n",
    "print(\"\\n f1-score:\",f1_score(dt_test[\"y\"],dt_test[\"Y_pronostico\"]))"
   ]
  },
  {
   "cell_type": "code",
   "execution_count": null,
   "metadata": {},
   "outputs": [],
   "source": [
    "# Ahora vamos a calcular los score o puntuaciones.\n",
    "#Que podemos hacer  con la función score\n",
    "score = tarjeta.score(X)\n",
    "\n",
    "print(\"Puntuación mínima: \", score.min().round(2))\n",
    "print(\"Puntuación máxima: \",score.max().round(2))\n",
    "print(\"Puntuación media : \",score.mean().round(2))  \n",
    "\n",
    "\n",
    "# Transformación lineal según apuntes\n",
    "# Factor= (pdo_0/log(2))\n",
    "# Offset = scorecard_points_0+(pdo_0/log(2))*log(odds0_0)\n",
    "# score= Offset - Factor *log(odds)\n",
    "\n",
    "Factor= (pdo_0/np.log(2))\n",
    "Offset = scorecard_points_0+Factor*np.log(1/odds_0_B)\n",
    "\n",
    "#Podríamos haber calculado la puntuación también manualmente\n",
    "score2= Offset-Factor*np.log(Y_pred/(1-Y_pred))\n",
    "\n",
    "# Podemos comprobar que los resultados son los mismos   \n",
    "print(\"Puntuación mínima: \",score2.min().round(2))\n",
    "print(\"Puntuación máxima: \",score2.max().round(2))\n",
    "print(\"Puntuación media : \",score2.mean().round(2))\n",
    "\n",
    "datos_score=pd.DataFrame(np.transpose([score,score2, Y,Y_pred]), columns=['score','scoreManual','Y','Y_pred'])\n",
    "\n",
    "# datos_score.to_excel(\"score_p1.xlsx\")\n"
   ]
  },
  {
   "attachments": {},
   "cell_type": "markdown",
   "metadata": {},
   "source": [
    "Saber cómo se hace la transformación manual puede ayudarnos por ejemplo a la hora de establecer la `nota que determina el aprobado`. Imaginemos que utilizamos la frecuencia observada de impagos como probabilidad de corte "
   ]
  },
  {
   "cell_type": "code",
   "execution_count": null,
   "metadata": {},
   "outputs": [],
   "source": [
    "\n",
    "Score_Corte= Offset-Factor*np.log(Prob_Corte/(1-Prob_Corte))\n",
    "\n",
    "print(\"La probabilida de corte de: \", Prob_Corte, \" equivale a una puntuación de corte de: \", Score_Corte.round(2) )\n"
   ]
  },
  {
   "cell_type": "code",
   "execution_count": null,
   "metadata": {},
   "outputs": [],
   "source": [
    "# Ahora representamos en un gráfico cómo separa el modelo a los buenos y los malos\n",
    "datos_score=pd.DataFrame(np.transpose([score,Y]), columns=['score','Y'])\n",
    "sns.displot(data=datos_score, x='score', label=\"event\", hue='Y', alpha=0.35,kind=\"kde\", fill=True, common_norm=True)\n",
    "plt.axvline(Score_Corte, color='k', linestyle=\":\")"
   ]
  },
  {
   "attachments": {},
   "cell_type": "markdown",
   "metadata": {},
   "source": [
    "# Seguimiento del modelo: PSI (Population Stability Index)\n",
    "El PSI es una medida de diferencia en la distribución de dos muestras, en nuestro caso entre la muestra utilizada para construir el modelo (entrenar y validar el modelo), y los nuevos datos que se vayan obteniendo con el transcurso del tiempo.  \n",
    "\n",
    "Se aplica para detectar cuándo comienzan a verse diferencias entre las dos muestras (las puntuaciones de la muestra -train- y las puntuaciones obtenidas con los nuevos datos .... Cuando las distribuciones dejen de parecerse será el momento de revisar el modelo a tenor de los nuevos datos \n",
    "\n",
    "Como regla general \n",
    "  - **PSI <0.1**: No hay diferencias significativas entre las muestras de entrenamiento y los nuevos datos (resultado deseado, no se requiere más acciones)\n",
    "  - **PSI entre 0.1 y 0.25** Hay cambio menores, valdría la pena revisar el modelo\n",
    "  - **PSI >0.25** hay cambios importantes entre las dos muestras HAY QUE CAMBIAR EL MODELO \n"
   ]
  },
  {
   "cell_type": "code",
   "execution_count": null,
   "metadata": {},
   "outputs": [],
   "source": [
    "# Supongamos que tenemos un conjunto de nuevos datos que hemos ido recopilando después de la puesta en producción del modelo,\n",
    "# y queremos utilizar esos nuevos datos para saber si es necesario revisar el modelo o si por el contrario podemos seguir utilizándolo\n",
    "\n",
    "# Como en la base de datos no disponemos de este tipo de datos voy a suponer simplemente que los datos de test son los nuevos datos,\n",
    "\n",
    "dt_nuevosdatos= dt_test.copy() \n",
    "\n",
    "\n",
    "from optbinning.scorecard import plot_auc_roc, plot_cap, plot_ks,ScorecardMonitoring\n",
    "\n",
    "\n",
    "# Valores nuevos\n",
    "Y_nuevo = dt_nuevosdatos['y'].values\n",
    "X_nuevo = dt_nuevosdatos.drop(columns=['y']) #todas menos la primera que es el ID y la variable y\n",
    "\n",
    "# Valores de entrenamiento\n",
    "Y = dt_train['y'].values\n",
    "X = dt_train.drop(columns=['y']) #todas menos la variable y\n",
    "\n",
    "\n",
    "# ¿se distibuyen igual las probabilidades esperadas?\n",
    "score_train = tarjeta.score(X)\n",
    "score_nuevo = tarjeta.score(X_nuevo)\n",
    "\n",
    "datos_score_psi1=pd.DataFrame(np.transpose([score_train,Y]), columns=['score','Y'])\n",
    "datos_score_psi1['tipo']='entrenamiento'\n",
    "\n",
    "datos_score_psi2=pd.DataFrame(np.transpose([score_nuevo,Y_nuevo]), columns=['score','Y'])\n",
    "datos_score_psi2['tipo']='nuevos datos'\n",
    "\n",
    "datos_score_psi= pd.concat([datos_score_psi1,datos_score_psi2])\n",
    "sns.displot(data=datos_score_psi, x='score', label=\"event\", hue='tipo', alpha=0.35,kind=\"kde\", fill=True,common_norm=False)\n",
    "plt.axvline(Score_Corte, color='k', linestyle=\":\")\n",
    "\n",
    "\n",
    "\n",
    "\n",
    "# Estimo el psi\n",
    "# Defino la tarjeta a evalear\n",
    "psi=ScorecardMonitoring(tarjeta, psi_method=\"cart\",psi_min_bin_size=0.10, psi_n_bins=20)\n",
    "#psi=ScorecardMonitoring(tarjeta, psi_method= \"quantile\", psi_n_bins=10)\n",
    "\n",
    "\n",
    "psi.fit(X_actual=X_nuevo, y_actual=Y_nuevo, X_expected=X, y_expected=Y)\n",
    "\n",
    "psi.psi_plot()\n",
    "psi.psi_table()\n",
    "psi.tests_table()\n"
   ]
  },
  {
   "cell_type": "code",
   "execution_count": null,
   "metadata": {},
   "outputs": [],
   "source": [
    "psi.system_stability_report()"
   ]
  },
  {
   "cell_type": "code",
   "execution_count": null,
   "metadata": {},
   "outputs": [],
   "source": [
    "psi.psi_variable_table(style=\"summary\").sort_values('PSI')"
   ]
  }
 ],
 "metadata": {
  "kernelspec": {
   "display_name": "risk_env",
   "language": "python",
   "name": "python3"
  },
  "language_info": {
   "codemirror_mode": {
    "name": "ipython",
    "version": 3
   },
   "file_extension": ".py",
   "mimetype": "text/x-python",
   "name": "python",
   "nbconvert_exporter": "python",
   "pygments_lexer": "ipython3",
   "version": "3.9.18"
  },
  "orig_nbformat": 4,
  "vscode": {
   "interpreter": {
    "hash": "5043996dbb5012f6a1a52b57fe18efa9888e0de81faf0d7ab7fe229615f6c3c4"
   }
  }
 },
 "nbformat": 4,
 "nbformat_minor": 2
}
