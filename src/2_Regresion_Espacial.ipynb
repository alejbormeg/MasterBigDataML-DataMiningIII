{
 "cells": [
  {
   "attachments": {},
   "cell_type": "markdown",
   "metadata": {},
   "source": [
    "## Análisis de la Correlación o Dependencia Espacial: Modelos de regresión espacial\n",
    "\n",
    "Además de `geopandas`para representar mapas, utilizaremos el paquete `spreg`  y  `weights` incluidos dentro del macro-proyecto `PySAL` "
   ]
  },
  {
   "cell_type": "code",
   "execution_count": null,
   "metadata": {},
   "outputs": [],
   "source": [
    "import pandas as pd\n",
    "import matplotlib.pyplot as plt\n",
    "import seaborn as sns\n",
    "\n",
    "import geopandas as gpd\n",
    "\n",
    "\n",
    "# OPCION 1 PARA CARGA DE LIBRERIAS PARA ESTADISTICA ESPACIAL\n",
    "# puedo instalar toda la meta-librería pysal (Ojo que tarda)\n",
    "# conda install --channel conda-forge pysal\n",
    "\n",
    "# y después cargar los paquetes y funciones que vamos a utilizar\n",
    "# from pysal.lib import weights  # Para Construir la matriz de pesos espaciales\n",
    "# from pysal.explore import esda  # Exploratory Spatial analytics\n",
    "# from pysal.model import spreg   # Para los modelos de regresion espacial\n",
    "# from pysal.viz import splot   # para conectar los análisis espaciales hechos en PySAL con herramientas de visaluización como matplotly\n",
    "# from splot import esda as esdaplot\n",
    "# from splot.esda import plot_moran    # para los gráficos de Moran\n",
    "\n",
    "\n",
    "# OPCION 2 PARA CARGA DE LIBRERIAS PARA ESTADISTICA ESPACIAL\n",
    "# O MEJOR (esta opción 2 es la que os recomiendo), puedo instalar solo los paquetes que me interesan del metaproyecto pysal\n",
    "# conda install --channel conda-forge libpysal\n",
    "# conda install --channel conda-forge esda\n",
    "# conda install --channel conda-forge spreg\n",
    "# conda install --channel conda-forge splot\n",
    "\n",
    "# y después cargar las funciones y métodos que utilizaremos en la práctica\n",
    "from libpysal import weights\n",
    "import esda\n",
    "import spreg\n",
    "from splot import esda as esdaplot\n",
    "from splot.esda import plot_moran    # para los gráficos de Moran\n"
   ]
  },
  {
   "cell_type": "markdown",
   "metadata": {},
   "source": [
    "## Objetivo de la práctica: La Ley de Okun\n",
    "Queremos estimar la ley de OKUN con datos Municipales, en este caso para explicar la Tasa de Paro Municipal en función de la renta percápita Municipal. Al tener datos georeferenciados nos preguntaremos si en la explicación de la tasa de paro municipal existen correlaciones espaciales con los municipio vecinos, y en tal caso presentaremos dos modelos para intentar estimar dichos efectos espaciales"
   ]
  },
  {
   "cell_type": "markdown",
   "metadata": {},
   "source": [
    "### Cargamos la cartografía"
   ]
  },
  {
   "cell_type": "code",
   "execution_count": null,
   "metadata": {},
   "outputs": [],
   "source": [
    "gdfm =gpd.read_file(\"cartografias/Munic04_ESP.shp\")\n",
    "#gdfm=gdfm.to_crs(epsg=3857)\n",
    "gdfm.info()\n"
   ]
  },
  {
   "cell_type": "markdown",
   "metadata": {},
   "source": [
    "Comenzamos Analizando los datos de Renta Per cápita"
   ]
  },
  {
   "cell_type": "code",
   "execution_count": null,
   "metadata": {},
   "outputs": [],
   "source": [
    "gdfm[[\"MUN\",\"RENTPCAP07\"]].sort_values(by='RENTPCAP07',ascending=False).head(15)\n",
    "\n"
   ]
  },
  {
   "cell_type": "code",
   "execution_count": null,
   "metadata": {},
   "outputs": [],
   "source": [
    "sns.displot(x=gdfm.RENTPCAP07, kind=\"kde\", fill=True)\n",
    "plt.show()"
   ]
  },
  {
   "cell_type": "code",
   "execution_count": null,
   "metadata": {},
   "outputs": [],
   "source": [
    "map=gdfm.plot(column='RENTPCAP07', \n",
    "         scheme='quantiles',\n",
    "         k=8, cmap='YlOrRd',\n",
    "         legend=True,\n",
    "         figsize=(10,10),\n",
    "         legend_kwds={'loc': 'lower right', 'fontsize':'8', 'title':'Renta Percápita'} \n",
    ")\n",
    "map.set_axis_off()       "
   ]
  },
  {
   "cell_type": "markdown",
   "metadata": {},
   "source": [
    "Nuestra Variable dependiente (Variable Objetivo) es la **tasa de desempleo municipal**"
   ]
  },
  {
   "cell_type": "code",
   "execution_count": null,
   "metadata": {},
   "outputs": [],
   "source": [
    "sns.displot(x=gdfm.TASA_PARO, kind=\"kde\", fill=True)\n",
    "plt.show()"
   ]
  },
  {
   "cell_type": "code",
   "execution_count": null,
   "metadata": {},
   "outputs": [],
   "source": [
    "map=gdfm.plot(column='TASA_PARO', \n",
    "         scheme='quantiles',\n",
    "         k=8, cmap='PuBuGn',\n",
    "         legend=True,\n",
    "         figsize=(10,10),\n",
    "         legend_kwds={'loc': 'lower right', 'fontsize':'8', 'title':'Tasa Paro'} \n",
    ")\n",
    "map.set_axis_off() \n",
    "\n",
    "plt.savefig('Tasa_paro.jpg') "
   ]
  },
  {
   "cell_type": "markdown",
   "metadata": {},
   "source": [
    "## Construcción de la Matriz de Pesos\n",
    "\n",
    "Las matrices de pesos o de importancias espaciales pueden construirse por vecindad-contigüidad o por distancia\n",
    "\n",
    "### Matrices de pesos por contigüidad"
   ]
  },
  {
   "cell_type": "code",
   "execution_count": null,
   "metadata": {},
   "outputs": [],
   "source": [
    "# Matriz de pesos por vecindad tipo torre\n",
    "wr = weights.contiguity.Rook.from_dataframe(gdfm)\n"
   ]
  },
  {
   "cell_type": "code",
   "execution_count": null,
   "metadata": {},
   "outputs": [],
   "source": [
    "print(wr.n)"
   ]
  },
  {
   "cell_type": "code",
   "execution_count": null,
   "metadata": {},
   "outputs": [],
   "source": [
    "wr.neighbors"
   ]
  },
  {
   "cell_type": "code",
   "execution_count": null,
   "metadata": {},
   "outputs": [],
   "source": [
    "# Representación de la matriz de contiguidades:\n",
    "\n",
    "pd.DataFrame(*wr.full()).astype(int)"
   ]
  },
  {
   "cell_type": "code",
   "execution_count": null,
   "metadata": {},
   "outputs": [],
   "source": [
    "print(wr.n**2)\n",
    "\n",
    "print(wr.nonzero)\n",
    "\n",
    "print(wr.nonzero/wr.n**2)\n",
    "wr.pct_nonzero # % de nonzeros, es una medida de la densidad de 1"
   ]
  },
  {
   "cell_type": "code",
   "execution_count": null,
   "metadata": {},
   "outputs": [],
   "source": [
    "# Matriz de pesos por vecindad tipo reina\n",
    "wq = weights.contiguity.Queen.from_dataframe(gdfm)\n"
   ]
  },
  {
   "cell_type": "code",
   "execution_count": null,
   "metadata": {},
   "outputs": [],
   "source": [
    "wq.neighbors"
   ]
  },
  {
   "cell_type": "code",
   "execution_count": null,
   "metadata": {},
   "outputs": [],
   "source": [
    "print(wq.n)"
   ]
  },
  {
   "cell_type": "code",
   "execution_count": null,
   "metadata": {},
   "outputs": [],
   "source": [
    "wq.weights"
   ]
  },
  {
   "cell_type": "code",
   "execution_count": null,
   "metadata": {},
   "outputs": [],
   "source": [
    "# Cardinal del número de vecinos para cada observación\n",
    "wq.cardinalities"
   ]
  },
  {
   "cell_type": "code",
   "execution_count": null,
   "metadata": {},
   "outputs": [],
   "source": [
    "wq.histogram"
   ]
  },
  {
   "cell_type": "code",
   "execution_count": null,
   "metadata": {},
   "outputs": [],
   "source": [
    "pd.Series(wq.cardinalities).describe()\n"
   ]
  },
  {
   "cell_type": "code",
   "execution_count": null,
   "metadata": {},
   "outputs": [],
   "source": [
    "pd.Series(wq.cardinalities).plot.hist(color=\"k\")"
   ]
  },
  {
   "cell_type": "code",
   "execution_count": null,
   "metadata": {},
   "outputs": [],
   "source": [
    "# Plot graph connections\n",
    "ax = gdfm.plot(\n",
    "        edgecolor=\"grey\", facecolor=\"w\",\n",
    "        figsize=(10,10)\n",
    "    )\n",
    "plt.xlim(-2.5,2.5)\n",
    "plt.ylim(37,40)\n",
    "\n",
    "wq.plot(\n",
    "    gdfm,\n",
    "    edge_kws=dict(linewidth=1, color=\"orangered\"),\n",
    "    node_kws=dict(marker=\"*\"),\n",
    "    ax=ax\n",
    ")\n",
    "\n",
    "plt.show()\n"
   ]
  },
  {
   "cell_type": "code",
   "execution_count": null,
   "metadata": {},
   "outputs": [],
   "source": [
    "wq.islands"
   ]
  },
  {
   "cell_type": "markdown",
   "metadata": {},
   "source": [
    "### Pesos Basados en Distancias\n",
    "#### K-Nearest Neighbor weights"
   ]
  },
  {
   "cell_type": "code",
   "execution_count": null,
   "metadata": {},
   "outputs": [],
   "source": [
    "wk4 = weights.distance.KNN.from_dataframe(gdfm, k=4)"
   ]
  },
  {
   "cell_type": "code",
   "execution_count": null,
   "metadata": {},
   "outputs": [],
   "source": [
    "wk4.islands"
   ]
  },
  {
   "cell_type": "code",
   "execution_count": null,
   "metadata": {},
   "outputs": [],
   "source": [
    "ax = gdfm.plot(\n",
    "        edgecolor=\"grey\", facecolor=\"w\",\n",
    "        figsize=(10,10)\n",
    "    )\n",
    "plt.xlim(-2.5,2.5)\n",
    "plt.ylim(37,40)\n",
    "\n",
    "\n",
    "wk4.plot(\n",
    "    gdfm,\n",
    "    edge_kws=dict(linewidth=1, color=\"orangered\"),\n",
    "    node_kws=dict(marker=\"*\"),\n",
    "    ax=ax\n",
    ")\n",
    "\n",
    "plt.show()\n"
   ]
  },
  {
   "cell_type": "markdown",
   "metadata": {},
   "source": [
    "### Kernel weights\n",
    "\n",
    "Kernel weights son pesos inversamente proporcionales a la distancia. Reflejan la primera ley de Tobler, la importancia espacial tiende a caer con la distancia (afecta más lo más cercano)"
   ]
  },
  {
   "cell_type": "code",
   "execution_count": null,
   "metadata": {},
   "outputs": [],
   "source": [
    "# Kernel weights\n",
    "w_kernel = weights.distance.Kernel.from_dataframe(gdfm)"
   ]
  },
  {
   "cell_type": "markdown",
   "metadata": {},
   "source": [
    "### Distance bands and hybrid Weights\n",
    "\n",
    "La matriz de pesos ahora refleja el hecho de que sólo los vecinos próximos (los que están en un radio de x kms) tienen un peso positivo"
   ]
  },
  {
   "cell_type": "code",
   "execution_count": null,
   "metadata": {},
   "outputs": [],
   "source": [
    "w_bdb = weights.distance.DistanceBand.from_dataframe(\n",
    "    gdfm, 1.5, binary=True\n",
    ")"
   ]
  },
  {
   "cell_type": "markdown",
   "metadata": {},
   "source": [
    "El radio máximo también puede conjugarse con la importancia o peso inversamente proporcional a la distancia. Es como un Kernel Censurado, ya que la función kernel sólo se aplica a los vecinos próximos (dentro de un radio x) "
   ]
  },
  {
   "cell_type": "code",
   "execution_count": null,
   "metadata": {},
   "outputs": [],
   "source": [
    "w_hy = weights.distance.DistanceBand.from_dataframe(\n",
    "    gdfm, 1.5, binary=False\n",
    ")"
   ]
  },
  {
   "cell_type": "code",
   "execution_count": null,
   "metadata": {},
   "outputs": [],
   "source": [
    "w_hy.weights"
   ]
  },
  {
   "cell_type": "markdown",
   "metadata": {},
   "source": [
    "Hay otras formas de calcular pesos, como por bloques. Tambien exista la posibilidad de unir dos o más matrices de pesos (y también se puede editar manualmente una matriz de pesos si fuese necesario)"
   ]
  },
  {
   "cell_type": "code",
   "execution_count": null,
   "metadata": {},
   "outputs": [],
   "source": [
    "w_bw = weights.util.block_weights(gdfm[\"CCAA\"].values)\n",
    "w_bw.weights"
   ]
  },
  {
   "cell_type": "code",
   "execution_count": null,
   "metadata": {},
   "outputs": [],
   "source": [
    "w_u = weights.set_operations.w_union(wq, wk4)\n",
    "w_u.weights"
   ]
  },
  {
   "cell_type": "code",
   "execution_count": null,
   "metadata": {},
   "outputs": [],
   "source": [
    "w_u.islands"
   ]
  },
  {
   "cell_type": "markdown",
   "metadata": {},
   "source": [
    "## Retardos espaciales\n",
    "\n",
    "\n",
    "Para poder utilizar la matriz de pesos espaciales como operador retardos necesitamos que estén normalizada por filas"
   ]
  },
  {
   "cell_type": "code",
   "execution_count": null,
   "metadata": {},
   "outputs": [],
   "source": [
    "wq.weights"
   ]
  },
  {
   "cell_type": "code",
   "execution_count": null,
   "metadata": {},
   "outputs": [],
   "source": [
    "# Transformar pesos por filas\n",
    "wq.transform = \"R\""
   ]
  },
  {
   "cell_type": "code",
   "execution_count": null,
   "metadata": {},
   "outputs": [],
   "source": [
    "w_u.transform = \"R\""
   ]
  },
  {
   "cell_type": "code",
   "execution_count": null,
   "metadata": {},
   "outputs": [],
   "source": [
    "w_u.weights"
   ]
  },
  {
   "cell_type": "code",
   "execution_count": null,
   "metadata": {},
   "outputs": [],
   "source": [
    "# Creación de variables con retardo espacial\n",
    "gdfm[\"TASA_PARO_lag\"] = weights.spatial_lag.lag_spatial(\n",
    "    wq, gdfm[\"TASA_PARO\"]\n",
    ")\n"
   ]
  },
  {
   "cell_type": "code",
   "execution_count": null,
   "metadata": {},
   "outputs": [],
   "source": [
    "# representación de la tasa de paro retardada\n",
    "map=gdfm.plot(column='TASA_PARO_lag', \n",
    "         scheme='quantiles',\n",
    "         k=8, cmap='PuBuGn',\n",
    "         legend=True,\n",
    "         figsize=(10,10),\n",
    "         legend_kwds={'loc': 'lower right', 'fontsize':'8', 'title':'Tasa Paro Retardada'} \n",
    ")\n",
    "map.set_axis_off() \n",
    "\n",
    "plt.savefig('Tasa_paro_lag.jpg') \n"
   ]
  },
  {
   "cell_type": "markdown",
   "metadata": {},
   "source": [
    "## Autocorrelación Espacial\n",
    "\n",
    "Tenemos ya dos variables para cada municipio: la Tasa de Paro del Municipio, y la Tasa de Paro media de los municipios cercanos/vecinos   \n",
    "Ya podemos cuantificar la asosciación o correlación espacial analizando la correlación que existe entre estas dos variables\n"
   ]
  },
  {
   "cell_type": "code",
   "execution_count": null,
   "metadata": {},
   "outputs": [],
   "source": [
    "# AutoCorrelación Espacial\n",
    "f, ax = plt.subplots(1, figsize=(9, 9))\n",
    "sns.regplot(\n",
    "    x=\"TASA_PARO\",\n",
    "    y=\"TASA_PARO_lag\",\n",
    "    ci=None,\n",
    "    data=gdfm,\n",
    "    line_kws={\"color\": \"r\"},\n",
    ")\n",
    "ax.axvline(0, c=\"k\", alpha=0.5)\n",
    "ax.axhline(0, c=\"k\", alpha=0.5)\n",
    "ax.set_title(\"Moran Plot - Tasa de Paro\")\n",
    "plt.show()"
   ]
  },
  {
   "cell_type": "markdown",
   "metadata": {},
   "source": [
    "No puede utilizarse el coeficiente de correlación de person, porque hay que tener en cuenta los pesos espaciales. Debemos utilizar la I de Moran"
   ]
  },
  {
   "cell_type": "code",
   "execution_count": null,
   "metadata": {},
   "outputs": [],
   "source": [
    "# Correlación Espacial: La I de Moran\n",
    "moran = esda.moran.Moran(gdfm[\"TASA_PARO\"], wq)\n",
    "print(\"I de moran:\", moran.I.round(3))\n",
    "print(\"p-valor:\", moran.p_sim)"
   ]
  },
  {
   "cell_type": "markdown",
   "metadata": {},
   "source": [
    "### Correlación Espacial Local\n",
    "\n",
    "No todos lso Municipios tienen que presentar dependencia espacial con sus vecinos. PAra analizar qué municipios sí presentan y cuáles no, se utiliza la correlación espacial Local (LISA: Local Indicator of Spatial autocorrelation)"
   ]
  },
  {
   "cell_type": "code",
   "execution_count": null,
   "metadata": {},
   "outputs": [],
   "source": [
    "#Correlación Espacial Local\n",
    "lisa = esda.moran.Moran_Local(gdfm[\"TASA_PARO\"], wq)"
   ]
  },
  {
   "cell_type": "code",
   "execution_count": null,
   "metadata": {},
   "outputs": [],
   "source": [
    "#Representación del Indice de Moran Local (Is)\n",
    "# Draw KDE line\n",
    "ax = sns.kdeplot(lisa.Is)\n",
    "# Add one small bar (rug) for each observation\n",
    "# along horizontal axis\n",
    "sns.rugplot(lisa.Is, ax=ax);"
   ]
  },
  {
   "cell_type": "code",
   "execution_count": null,
   "metadata": {},
   "outputs": [],
   "source": [
    "# Set up figure and axes\n",
    "f, axs = plt.subplots(nrows=2, ncols=2, figsize=(14, 12))\n",
    "# Make the axes accessible with single indexing\n",
    "axs = axs.flatten()\n",
    "\n",
    "# Subplot 1 #\n",
    "# Choropleth of local statistics\n",
    "# Grab first axis in the figure\n",
    "ax = axs[0]\n",
    "# Assign new column with local statistics on-the-fly\n",
    "gdfm.assign(\n",
    "    Is=lisa.Is\n",
    "    # Plot choropleth of local statistics\n",
    ").plot(\n",
    "    column=\"Is\",\n",
    "    cmap=\"PuBuGn\",\n",
    "    scheme=\"quantiles\",\n",
    "    k=5,\n",
    "    edgecolor=\"white\",\n",
    "    linewidth=0.1,\n",
    "    alpha=0.75,\n",
    "    legend=True,\n",
    "    ax=ax,\n",
    ")\n",
    "\n",
    "# Subplot 2 #\n",
    "# Quadrant categories\n",
    "# Grab second axis of local statistics\n",
    "ax = axs[1]\n",
    "# Plot Quandrant colors (note to ensure all polygons are assigned a\n",
    "# quadrant, we \"trick\" the function by setting significance level to\n",
    "# 1 so all observations are treated as \"significant\" and thus assigned\n",
    "# a quadrant color\n",
    "esdaplot.lisa_cluster(lisa, gdfm, p=1, ax=ax)\n",
    "\n",
    "# Subplot 3 #\n",
    "# Significance map\n",
    "# Grab third axis of local statistics\n",
    "ax = axs[2]\n",
    "#\n",
    "# Find out significant observations\n",
    "labels = pd.Series(\n",
    "    1 * (lisa.p_sim < 0.05),  # Assign 1 if significant, 0 otherwise\n",
    "    index=gdfm.index  # Use the index in the original data\n",
    "    # Recode 1 to \"Significant and 0 to \"Non-significant\"\n",
    ").map({1: \"Significant\", 0: \"Non-Significant\"})\n",
    "# Assign labels to `db` on the fly\n",
    "gdfm.assign(\n",
    "    cl=labels\n",
    "    # Plot choropleth of (non-)significant areas\n",
    ").plot(\n",
    "    column=\"cl\",\n",
    "    categorical=True,\n",
    "    k=2,\n",
    "    cmap=\"Paired\",\n",
    "    linewidth=0.1,\n",
    "    edgecolor=\"white\",\n",
    "    legend=True,\n",
    "    ax=ax,\n",
    ")\n",
    "\n",
    "\n",
    "# Subplot 4 #\n",
    "# Cluster map\n",
    "# Grab second axis of local statistics\n",
    "ax = axs[3]\n",
    "# Plot Quandrant colors In this case, we use a 5% significance\n",
    "# level to select polygons as part of statistically significant\n",
    "# clusters\n",
    "esdaplot.lisa_cluster(lisa, gdfm, p=0.05, ax=ax)\n",
    "\n",
    "# Figure styling #\n",
    "# Set title to each subplot\n",
    "for i, ax in enumerate(axs.flatten()):\n",
    "    ax.set_axis_off()\n",
    "    ax.set_title(\n",
    "        [\n",
    "            \"Local Statistics\",\n",
    "            \"Scatterplot Quadrant\",\n",
    "            \"Statistical Significance\",\n",
    "            \"Moran Cluster Map\",\n",
    "        ][i],\n",
    "        y=0,\n",
    "    )\n",
    "# Tight layout to minimise in-betwee white space\n",
    "f.tight_layout()\n",
    "\n",
    "# Display the figure\n",
    "plt.show()"
   ]
  },
  {
   "cell_type": "markdown",
   "metadata": {},
   "source": [
    "Podemos asignar el cluster LISA (cuadrante y significatividad) como una variable adicional a la cartografía"
   ]
  },
  {
   "cell_type": "code",
   "execution_count": null,
   "metadata": {},
   "outputs": [],
   "source": [
    "# Assign pseudo P-values to `gdfm`\n",
    "gdfm[\"p-sim\"] = lisa.p_sim\n",
    "# `1` if significant (at 5% confidence level), `0` otherwise\n",
    "sig = 1 * (lisa.p_sim < 0.05)\n",
    "# Assign significance flag to `db`\n",
    "gdfm[\"sig\"] = sig\n",
    "\n",
    "# Pick as part of a quadrant only significant polygons,\n",
    "# assign `0` otherwise (Non-significant polygons)\n",
    "spots = lisa.q * sig\n",
    "# Mapping from value to name (as a dict)\n",
    "spots_labels = {\n",
    "    0: \"Non-Significant\",\n",
    "    1: \"HH\",\n",
    "    2: \"LH\",\n",
    "    3: \"LL\",\n",
    "    4: \"HL\",\n",
    "}\n",
    "# Create column in `db` with labels for each polygon\n",
    "gdfm[\"labels\"] = pd.Series(\n",
    "    # First initialise a Series using values and `db` index\n",
    "    spots,\n",
    "    index=gdfm.index\n",
    "    # Then map each value to corresponding label based\n",
    "    # on the `spots_labels` mapping\n",
    ").map(spots_labels)\n",
    "# Print top for inspection\n",
    "gdfm[\"labels\"].head(20)"
   ]
  },
  {
   "cell_type": "code",
   "execution_count": null,
   "metadata": {},
   "outputs": [],
   "source": [
    "gdfm[\"labels\"].value_counts()"
   ]
  },
  {
   "cell_type": "markdown",
   "metadata": {},
   "source": [
    "# Regresión Espacial"
   ]
  },
  {
   "cell_type": "markdown",
   "metadata": {},
   "source": [
    "Comenzamos haciendo una regresión lineal de la Ley de Okun por mínimos cuadrados ordinarios sin tener en cuenta que, com ya hemos visto, la tasa de Paro presenta un alta dependencia o correlación espacial    \n",
    "\n",
    "$ TasaParo_i = \\beta_0 + \\beta_1*RentaPc_i + u_i$"
   ]
  },
  {
   "cell_type": "code",
   "execution_count": null,
   "metadata": {},
   "outputs": [],
   "source": [
    "#Regresión MCO\n",
    "m1 = spreg.OLS(\n",
    "    # Dependent variable\n",
    "    gdfm[[\"TASA_PARO\"]].values,\n",
    "    # Independent variables\n",
    "    gdfm[[\"RENTPCAP07\"]].values,\n",
    "    # Dependent variable name\n",
    "    name_y=\"TASA_PARO\",\n",
    "    # Independent variable name\n",
    "    name_x=[\"RENTA_PERCAPITA\"]\n",
    ")\n",
    "\n",
    "print(m1.summary)\n",
    "\n"
   ]
  },
  {
   "cell_type": "code",
   "execution_count": null,
   "metadata": {},
   "outputs": [],
   "source": [
    "# Create column with residual values from m1\n",
    "gdfm[\"residual\"] = m1.u"
   ]
  },
  {
   "cell_type": "markdown",
   "metadata": {},
   "source": [
    "Diagnosis de los residuos ¿Son Ruido blanco?"
   ]
  },
  {
   "cell_type": "code",
   "execution_count": null,
   "metadata": {},
   "outputs": [],
   "source": [
    "gdfm[\"lag_residual\"] = weights.spatial_lag.lag_spatial(wq, m1.u)\n"
   ]
  },
  {
   "cell_type": "code",
   "execution_count": null,
   "metadata": {},
   "outputs": [],
   "source": [
    "f, ax = plt.subplots(1, figsize=(9, 9))\n",
    "sns.regplot(\n",
    "    x=\"residual\",\n",
    "    y=\"lag_residual\",\n",
    "    ci=None,\n",
    "    data=gdfm,\n",
    "    line_kws={\"color\": \"r\"},\n",
    ")\n",
    "ax.axvline(0, c=\"k\", alpha=0.5)\n",
    "ax.axhline(0, c=\"k\", alpha=0.5)\n",
    "ax.set_title(\"Moran Plot - Residuos Modelo Regresión\")\n",
    "plt.show()"
   ]
  },
  {
   "cell_type": "code",
   "execution_count": null,
   "metadata": {},
   "outputs": [],
   "source": [
    "# Correlación Espacial: La I de Moran\n",
    "moran = esda.moran.Moran(gdfm[\"residual\"], wq)\n",
    "print(\"I de moran:\", moran.I.round(3))\n",
    "print(\"p-valor:\", moran.p_sim)"
   ]
  },
  {
   "cell_type": "code",
   "execution_count": null,
   "metadata": {},
   "outputs": [],
   "source": [
    "# representación de los residuos MCO  retardada\n",
    "map=gdfm.plot(column='residual', \n",
    "         scheme='quantiles',\n",
    "         k=8, cmap='PuBuGn',\n",
    "         legend=True,\n",
    "         figsize=(10,10),\n",
    "         legend_kwds={'loc': 'lower right', 'fontsize':'8', 'title':'Residuos MCO'} \n",
    ")\n",
    "map.set_axis_off() \n",
    "\n",
    "plt.savefig('Residuos_MCO_Tasa_paro.jpg') "
   ]
  },
  {
   "cell_type": "markdown",
   "metadata": {},
   "source": [
    "Estimación de un modelo con retardo espacial"
   ]
  },
  {
   "cell_type": "code",
   "execution_count": null,
   "metadata": {},
   "outputs": [],
   "source": [
    "# Regresión lag espatial con librería `spreg` y representación de los rsiduos\n",
    "\n",
    "# (GMM estimation allowing for heteroskedasticity)\n",
    "mLag = spreg.GM_Error_Het(\n",
    "    # Dependent variable\n",
    "    gdfm[[\"TASA_PARO\"]].values,\n",
    "    # Independent variables\n",
    "    gdfm[[\"RENTPCAP07\"]].values,\n",
    "    # Spatial weights matrix\n",
    "    w=wq,\n",
    "    # Dependent variable name\n",
    "    name_y=\"TASA_PARO\",\n",
    "    # Independent variable name\n",
    "    name_x=[\"RENTA_PERCAPITA\"],\n",
    ")\n",
    "\n",
    "print(mLag.summary)"
   ]
  },
  {
   "cell_type": "markdown",
   "metadata": {},
   "source": [
    "Diagnosis de los residuos"
   ]
  },
  {
   "cell_type": "code",
   "execution_count": null,
   "metadata": {},
   "outputs": [],
   "source": [
    "# Create column with residual values from m1\n",
    "gdfm[\"mLagresidual\"] = mLag.e_filtered\n",
    "gdfm[\"mLagresidual_lag\"] = weights.spatial_lag.lag_spatial(wq, mLag.e_filtered)\n",
    "\n",
    "f, ax = plt.subplots(1, figsize=(9, 9))\n",
    "sns.regplot(\n",
    "    x=\"mLagresidual\",\n",
    "    y=\"mLagresidual_lag\",\n",
    "    ci=None,\n",
    "    data=gdfm,\n",
    "    line_kws={\"color\": \"r\"},\n",
    ")\n",
    "ax.axvline(0, c=\"k\", alpha=0.5)\n",
    "ax.axhline(0, c=\"k\", alpha=0.5)\n",
    "ax.set_title(\"Moran Plot - Residuos Modelo Regresión Espacial\")\n",
    "plt.show()\n"
   ]
  },
  {
   "cell_type": "code",
   "execution_count": null,
   "metadata": {},
   "outputs": [],
   "source": [
    "# Correlación Espacial: La I de Moran\n",
    "moran = esda.moran.Moran(gdfm[\"mLagresidual\"], wq)\n",
    "print(\"I de moran:\", moran.I.round(3))\n",
    "print(\"p-valor:\", moran.p_sim)"
   ]
  },
  {
   "cell_type": "code",
   "execution_count": null,
   "metadata": {},
   "outputs": [],
   "source": [
    "# representación de los residuos Modelo Retardado\n",
    "\n",
    "map=gdfm.plot(column='mLagresidual', \n",
    "         scheme='quantiles',\n",
    "         k=8, cmap='PuBuGn',\n",
    "         legend=True,\n",
    "         figsize=(10,10),\n",
    "         legend_kwds={'loc': 'lower right', 'fontsize':'8', 'title':'Residuos Modelo Retardos'} \n",
    ")\n",
    "map.set_axis_off() \n",
    "\n",
    "#plt.savefig('Residuos_MCO_Tasa_paro.jpg') "
   ]
  }
 ],
 "metadata": {
  "kernelspec": {
   "display_name": "geo_env",
   "language": "python",
   "name": "python3"
  },
  "language_info": {
   "codemirror_mode": {
    "name": "ipython",
    "version": 3
   },
   "file_extension": ".py",
   "mimetype": "text/x-python",
   "name": "python",
   "nbconvert_exporter": "python",
   "pygments_lexer": "ipython3",
   "version": "3.11.0"
  },
  "orig_nbformat": 4,
  "vscode": {
   "interpreter": {
    "hash": "ee6abb9768f5b1471691e0585272ec1e79eef59c237679b7afb77ee71e1db93b"
   }
  }
 },
 "nbformat": 4,
 "nbformat_minor": 2
}
